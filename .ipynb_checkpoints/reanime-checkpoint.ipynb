{
 "cells": [
  {
   "cell_type": "markdown",
   "metadata": {},
   "source": [
    "##    Importando bibliotecas"
   ]
  },
  {
   "cell_type": "code",
   "execution_count": 1,
   "metadata": {},
   "outputs": [
    {
     "name": "stdout",
     "output_type": "stream",
     "text": [
      "Defaulting to user installation because normal site-packages is not writeable\n",
      "Collecting tensorflow==2.3.0\n",
      "  Using cached tensorflow-2.3.0-cp38-cp38-manylinux2010_x86_64.whl (320.5 MB)\n",
      "Collecting numpy==1.16.2\n",
      "  Downloading numpy-1.16.2.zip (5.1 MB)\n",
      "\u001b[K     |████████████████████████████████| 5.1 MB 3.9 MB/s eta 0:00:01     |███▌                            | 563 kB 1.3 MB/s eta 0:00:04     |██████████████████████████████▊ | 4.9 MB 3.9 MB/s eta 0:00:01\n",
      "\u001b[?25hCollecting pandas==0.24.2\n",
      "  Downloading pandas-0.24.2.tar.gz (11.8 MB)\n",
      "\u001b[K     |████████████████████████████████| 11.8 MB 2.2 kB/s eta 0:00:01    |████████████████████████▋       | 9.1 MB 6.6 MB/s eta 0:00:01\n",
      "\u001b[?25hCollecting matplotlib==3.3.1\n",
      "  Downloading matplotlib-3.3.1-cp38-cp38-manylinux1_x86_64.whl (11.6 MB)\n",
      "\u001b[K     |████████████████████████████████| 11.6 MB 6.0 MB/s eta 0:00:01\n",
      "\u001b[?25hCollecting Keras==2.2.4\n",
      "  Downloading Keras-2.2.4-py2.py3-none-any.whl (312 kB)\n",
      "\u001b[K     |████████████████████████████████| 312 kB 3.8 MB/s eta 0:00:01\n",
      "\u001b[?25hCollecting sklearn==0.0\n",
      "  Downloading sklearn-0.0.tar.gz (1.1 kB)\n",
      "Requirement already satisfied: termcolor>=1.1.0 in /home/leticia/.local/lib/python3.8/site-packages (from tensorflow==2.3.0->-r requirements.txt (line 1)) (1.1.0)\n",
      "Requirement already satisfied: astunparse==1.6.3 in /home/leticia/.local/lib/python3.8/site-packages (from tensorflow==2.3.0->-r requirements.txt (line 1)) (1.6.3)\n",
      "Requirement already satisfied: six>=1.12.0 in /usr/lib/python3/dist-packages (from tensorflow==2.3.0->-r requirements.txt (line 1)) (1.14.0)\n",
      "Requirement already satisfied: grpcio>=1.8.6 in /home/leticia/.local/lib/python3.8/site-packages (from tensorflow==2.3.0->-r requirements.txt (line 1)) (1.33.2)\n",
      "Requirement already satisfied: wrapt>=1.11.1 in /home/leticia/.local/lib/python3.8/site-packages (from tensorflow==2.3.0->-r requirements.txt (line 1)) (1.12.1)\n",
      "Collecting scipy==1.4.1\n",
      "  Using cached scipy-1.4.1-cp38-cp38-manylinux1_x86_64.whl (26.0 MB)\n",
      "Requirement already satisfied: gast==0.3.3 in /home/leticia/.local/lib/python3.8/site-packages (from tensorflow==2.3.0->-r requirements.txt (line 1)) (0.3.3)\n",
      "Requirement already satisfied: h5py<2.11.0,>=2.10.0 in /home/leticia/.local/lib/python3.8/site-packages (from tensorflow==2.3.0->-r requirements.txt (line 1)) (2.10.0)\n",
      "Requirement already satisfied: tensorboard<3,>=2.3.0 in /home/leticia/.local/lib/python3.8/site-packages (from tensorflow==2.3.0->-r requirements.txt (line 1)) (2.3.0)\n",
      "Requirement already satisfied: tensorflow-estimator<2.4.0,>=2.3.0 in /home/leticia/.local/lib/python3.8/site-packages (from tensorflow==2.3.0->-r requirements.txt (line 1)) (2.3.0)\n",
      "Requirement already satisfied: protobuf>=3.9.2 in /home/leticia/.local/lib/python3.8/site-packages (from tensorflow==2.3.0->-r requirements.txt (line 1)) (3.13.0)\n",
      "Requirement already satisfied: wheel>=0.26 in /usr/lib/python3/dist-packages (from tensorflow==2.3.0->-r requirements.txt (line 1)) (0.34.2)\n",
      "Requirement already satisfied: opt-einsum>=2.3.2 in /home/leticia/.local/lib/python3.8/site-packages (from tensorflow==2.3.0->-r requirements.txt (line 1)) (3.3.0)\n",
      "Requirement already satisfied: google-pasta>=0.1.8 in /home/leticia/.local/lib/python3.8/site-packages (from tensorflow==2.3.0->-r requirements.txt (line 1)) (0.2.0)\n",
      "Requirement already satisfied: absl-py>=0.7.0 in /home/leticia/.local/lib/python3.8/site-packages (from tensorflow==2.3.0->-r requirements.txt (line 1)) (0.11.0)\n",
      "Requirement already satisfied: keras-preprocessing<1.2,>=1.1.1 in /home/leticia/.local/lib/python3.8/site-packages (from tensorflow==2.3.0->-r requirements.txt (line 1)) (1.1.2)\n",
      "Requirement already satisfied: python-dateutil>=2.5.0 in /usr/lib/python3/dist-packages (from pandas==0.24.2->-r requirements.txt (line 3)) (2.7.3)\n",
      "Requirement already satisfied: pytz>=2011k in /usr/lib/python3/dist-packages (from pandas==0.24.2->-r requirements.txt (line 3)) (2019.3)\n",
      "Requirement already satisfied: pillow>=6.2.0 in /usr/lib/python3/dist-packages (from matplotlib==3.3.1->-r requirements.txt (line 4)) (7.0.0)\n",
      "Requirement already satisfied: pyparsing!=2.0.4,!=2.1.2,!=2.1.6,>=2.0.3 in /usr/lib/python3/dist-packages (from matplotlib==3.3.1->-r requirements.txt (line 4)) (2.4.6)\n",
      "Requirement already satisfied: cycler>=0.10 in /home/leticia/.local/lib/python3.8/site-packages (from matplotlib==3.3.1->-r requirements.txt (line 4)) (0.10.0)\n",
      "Requirement already satisfied: kiwisolver>=1.0.1 in /home/leticia/.local/lib/python3.8/site-packages (from matplotlib==3.3.1->-r requirements.txt (line 4)) (1.3.1)\n",
      "Requirement already satisfied: certifi>=2020.06.20 in /home/leticia/.local/lib/python3.8/site-packages (from matplotlib==3.3.1->-r requirements.txt (line 4)) (2020.6.20)\n",
      "Collecting keras-applications>=1.0.6\n",
      "  Downloading Keras_Applications-1.0.8-py3-none-any.whl (50 kB)\n",
      "\u001b[K     |████████████████████████████████| 50 kB 303 kB/s eta 0:00:01\n",
      "\u001b[?25hRequirement already satisfied: pyyaml in /usr/lib/python3/dist-packages (from Keras==2.2.4->-r requirements.txt (line 5)) (5.3.1)\n",
      "Requirement already satisfied: scikit-learn in /home/leticia/.local/lib/python3.8/site-packages (from sklearn==0.0->-r requirements.txt (line 6)) (0.23.2)\n",
      "Requirement already satisfied: tensorboard-plugin-wit>=1.6.0 in /home/leticia/.local/lib/python3.8/site-packages (from tensorboard<3,>=2.3.0->tensorflow==2.3.0->-r requirements.txt (line 1)) (1.7.0)\n",
      "Requirement already satisfied: google-auth-oauthlib<0.5,>=0.4.1 in /home/leticia/.local/lib/python3.8/site-packages (from tensorboard<3,>=2.3.0->tensorflow==2.3.0->-r requirements.txt (line 1)) (0.4.2)\n",
      "Requirement already satisfied: google-auth<2,>=1.6.3 in /home/leticia/.local/lib/python3.8/site-packages (from tensorboard<3,>=2.3.0->tensorflow==2.3.0->-r requirements.txt (line 1)) (1.23.0)\n",
      "Requirement already satisfied: werkzeug>=0.11.15 in /home/leticia/.local/lib/python3.8/site-packages (from tensorboard<3,>=2.3.0->tensorflow==2.3.0->-r requirements.txt (line 1)) (1.0.1)\n",
      "Requirement already satisfied: requests<3,>=2.21.0 in /usr/lib/python3/dist-packages (from tensorboard<3,>=2.3.0->tensorflow==2.3.0->-r requirements.txt (line 1)) (2.22.0)\n",
      "Requirement already satisfied: setuptools>=41.0.0 in /usr/lib/python3/dist-packages (from tensorboard<3,>=2.3.0->tensorflow==2.3.0->-r requirements.txt (line 1)) (45.2.0)\n",
      "Requirement already satisfied: markdown>=2.6.8 in /usr/lib/python3/dist-packages (from tensorboard<3,>=2.3.0->tensorflow==2.3.0->-r requirements.txt (line 1)) (3.1.1)\n",
      "Requirement already satisfied: threadpoolctl>=2.0.0 in /home/leticia/.local/lib/python3.8/site-packages (from scikit-learn->sklearn==0.0->-r requirements.txt (line 6)) (2.1.0)\n",
      "Requirement already satisfied: joblib>=0.11 in /home/leticia/.local/lib/python3.8/site-packages (from scikit-learn->sklearn==0.0->-r requirements.txt (line 6)) (0.17.0)\n",
      "Requirement already satisfied: requests-oauthlib>=0.7.0 in /home/leticia/.local/lib/python3.8/site-packages (from google-auth-oauthlib<0.5,>=0.4.1->tensorboard<3,>=2.3.0->tensorflow==2.3.0->-r requirements.txt (line 1)) (1.3.0)\n",
      "Requirement already satisfied: rsa<5,>=3.1.4; python_version >= \"3.5\" in /home/leticia/.local/lib/python3.8/site-packages (from google-auth<2,>=1.6.3->tensorboard<3,>=2.3.0->tensorflow==2.3.0->-r requirements.txt (line 1)) (4.6)\n",
      "Requirement already satisfied: cachetools<5.0,>=2.0.0 in /home/leticia/.local/lib/python3.8/site-packages (from google-auth<2,>=1.6.3->tensorboard<3,>=2.3.0->tensorflow==2.3.0->-r requirements.txt (line 1)) (4.1.1)\n",
      "Requirement already satisfied: pyasn1-modules>=0.2.1 in /home/leticia/.local/lib/python3.8/site-packages (from google-auth<2,>=1.6.3->tensorboard<3,>=2.3.0->tensorflow==2.3.0->-r requirements.txt (line 1)) (0.2.8)\n",
      "Requirement already satisfied: oauthlib>=3.0.0 in /usr/lib/python3/dist-packages (from requests-oauthlib>=0.7.0->google-auth-oauthlib<0.5,>=0.4.1->tensorboard<3,>=2.3.0->tensorflow==2.3.0->-r requirements.txt (line 1)) (3.1.0)\n",
      "Requirement already satisfied: pyasn1>=0.1.3 in /home/leticia/.local/lib/python3.8/site-packages (from rsa<5,>=3.1.4; python_version >= \"3.5\"->google-auth<2,>=1.6.3->tensorboard<3,>=2.3.0->tensorflow==2.3.0->-r requirements.txt (line 1)) (0.4.8)\n",
      "Building wheels for collected packages: numpy, pandas, sklearn\n"
     ]
    },
    {
     "name": "stdout",
     "output_type": "stream",
     "text": [
      "  Building wheel for numpy (setup.py) ... \u001b[?25ldone\n",
      "\u001b[?25h  Created wheel for numpy: filename=numpy-1.16.2-cp38-cp38-linux_x86_64.whl size=13539778 sha256=7d341e6defc0896f4af838909cceed22da03638ac58f295210c751f235c9ee21\n",
      "  Stored in directory: /home/leticia/.cache/pip/wheels/c7/1a/26/d24add95f4ea99e790c3a8b339fb5b46b66f9849142d1b93c5\n",
      "  Building wheel for pandas (setup.py) ... \u001b[?25ldone\n",
      "\u001b[?25h  Created wheel for pandas: filename=pandas-0.24.2-cp38-cp38-linux_x86_64.whl size=43655055 sha256=8a67fa0ac77db7b998b019d4570e8accd3353efa08870f5854bd01bf62952aa2\n",
      "  Stored in directory: /home/leticia/.cache/pip/wheels/3d/17/1e/85f3aefe44d39a0b4055971ba075fa082be49dcb831db4e4ae\n",
      "  Building wheel for sklearn (setup.py) ... \u001b[?25ldone\n",
      "\u001b[?25h  Created wheel for sklearn: filename=sklearn-0.0-py2.py3-none-any.whl size=1315 sha256=782a4917b2ecb8e36f616e9f7a2b602e33cf59f07bc05c15f1f189afac900811\n",
      "  Stored in directory: /home/leticia/.cache/pip/wheels/22/0b/40/fd3f795caaa1fb4c6cb738bc1f56100be1e57da95849bfc897\n",
      "Successfully built numpy pandas sklearn\n",
      "Installing collected packages: numpy, scipy, tensorflow, pandas, matplotlib, keras-applications, Keras, sklearn\n",
      "  Attempting uninstall: numpy\n",
      "    Found existing installation: numpy 1.18.5\n",
      "    Uninstalling numpy-1.18.5:\n",
      "      Successfully uninstalled numpy-1.18.5\n",
      "  Attempting uninstall: scipy\n",
      "    Found existing installation: scipy 1.5.4\n",
      "    Uninstalling scipy-1.5.4:\n",
      "      Successfully uninstalled scipy-1.5.4\n",
      "  Attempting uninstall: tensorflow\n",
      "    Found existing installation: tensorflow 2.3.1\n",
      "    Uninstalling tensorflow-2.3.1:\n",
      "      Successfully uninstalled tensorflow-2.3.1\n",
      "  Attempting uninstall: pandas\n",
      "    Found existing installation: pandas 1.1.4\n",
      "    Uninstalling pandas-1.1.4:\n",
      "      Successfully uninstalled pandas-1.1.4\n",
      "  Attempting uninstall: matplotlib\n",
      "    Found existing installation: matplotlib 3.3.2\n",
      "    Uninstalling matplotlib-3.3.2:\n",
      "      Successfully uninstalled matplotlib-3.3.2\n",
      "  Attempting uninstall: Keras\n",
      "    Found existing installation: Keras 2.4.3\n",
      "    Uninstalling Keras-2.4.3:\n",
      "      Successfully uninstalled Keras-2.4.3\n",
      "Successfully installed Keras-2.2.4 keras-applications-1.0.8 matplotlib-3.3.1 numpy-1.16.2 pandas-0.24.2 scipy-1.4.1 sklearn-0.0 tensorflow-2.3.0\n",
      "Note: you may need to restart the kernel to use updated packages.\n"
     ]
    }
   ],
   "source": [
    "pip install -r requirements.txt"
   ]
  },
  {
   "cell_type": "code",
   "execution_count": 10,
   "metadata": {},
   "outputs": [],
   "source": [
    "#Importando bibliotecas\n",
    "import tensorflow\n",
    "from tensorflow.keras.preprocessing.image import ImageDataGenerator\n",
    "from tensorflow.keras.models import Sequential\n",
    "from tensorflow.keras.layers import Conv2D\n",
    "from tensorflow.keras.layers import MaxPooling2D\n",
    "from tensorflow.keras.layers import Flatten\n",
    "from tensorflow.keras.layers import Dense"
   ]
  },
  {
   "cell_type": "markdown",
   "metadata": {},
   "source": [
    "## Parte 1 - Pré-Processamento de Dados"
   ]
  },
  {
   "cell_type": "code",
   "execution_count": 11,
   "metadata": {},
   "outputs": [
    {
     "name": "stdout",
     "output_type": "stream",
     "text": [
      "Found 82 images belonging to 2 classes.\n",
      "Found 2526 images belonging to 2 classes.\n"
     ]
    }
   ],
   "source": [
    "#Test Set\n",
    "test_datagen = ImageDataGenerator(rescale = 1./255)\n",
    "test_set = test_datagen.flow_from_directory('dataset/test_set',\n",
    "                                           target_size = (64, 64),\n",
    "                                           batch_size = 32,\n",
    "                                           class_mode = 'binary')\n",
    "#Train Set\n",
    "train_datagen = ImageDataGenerator(rescale = 1./255, \n",
    "                                   shear_range = 0.2, \n",
    "                                   zoom_range = 0.2,\n",
    "                                   horizontal_flip = True)\n",
    "\n",
    "training_set = train_datagen.flow_from_directory('dataset/training_set',\n",
    "                                                 target_size = (64, 64),\n",
    "                                                 batch_size = 32,\n",
    "                                                 class_mode = 'binary')"
   ]
  },
  {
   "cell_type": "markdown",
   "metadata": {},
   "source": [
    "## Parte 2 - Gerando CNN"
   ]
  },
  {
   "cell_type": "code",
   "execution_count": 13,
   "metadata": {},
   "outputs": [],
   "source": [
    "# Inicializando \n",
    "cnn_classifier = Sequential()\n",
    "\n",
    "# Camada 1\n",
    "cnn_classifier.add(Conv2D(32, (3, 3), input_shape=(64, 64, 3), activation='relu'))\n",
    "\n",
    "# Agrupamento 1\n",
    "cnn_classifier.add(MaxPooling2D(pool_size=(2, 2)))\n",
    "\n",
    "# Camada 2\n",
    "cnn_classifier.add(Conv2D(32, (3, 3), activation='relu'))\n",
    "\n",
    "# Agrupamento 2\n",
    "cnn_classifier.add(MaxPooling2D(pool_size=(2, 2)))\n",
    "\n",
    "# Flattening\n",
    "cnn_classifier.add(Flatten())\n",
    "\n",
    "# Fazendo a junção das camadas\n",
    "cnn_classifier.add(Dense(units=128, activation='relu'))\n",
    "\n",
    "# Camada de saída\n",
    "cnn_classifier.add(Dense(units=1, activation='sigmoid'))\n",
    "\n",
    "# Compilando CNN\n",
    "cnn_classifier.compile(\n",
    "    optimizer='adam', loss='binary_crossentropy', metrics=['accuracy'])"
   ]
  },
  {
   "cell_type": "markdown",
   "metadata": {},
   "source": [
    "## Parte 3 - Treinando CNN "
   ]
  },
  {
   "cell_type": "code",
   "execution_count": 14,
   "metadata": {},
   "outputs": [
    {
     "name": "stdout",
     "output_type": "stream",
     "text": [
      "Epoch 1/25\n",
      "14/79 [====>.........................] - ETA: 46s - loss: 0.4305 - accuracy: 0.8036"
     ]
    },
    {
     "name": "stderr",
     "output_type": "stream",
     "text": [
      "/usr/lib/python3/dist-packages/PIL/Image.py:931: UserWarning: Palette images with Transparency expressed in bytes should be converted to RGBA images\n",
      "  warnings.warn(\n"
     ]
    },
    {
     "name": "stdout",
     "output_type": "stream",
     "text": [
      "79/79 [==============================] - 61s 772ms/step - loss: 0.3426 - accuracy: 0.8397 - val_loss: 1.0082 - val_accuracy: 0.5732\n",
      "Epoch 2/25\n",
      "79/79 [==============================] - 32s 401ms/step - loss: 0.2451 - accuracy: 0.9010 - val_loss: 1.2582 - val_accuracy: 0.6341\n",
      "Epoch 3/25\n",
      "79/79 [==============================] - 32s 406ms/step - loss: 0.1729 - accuracy: 0.9303 - val_loss: 0.4155 - val_accuracy: 0.8537\n",
      "Epoch 4/25\n",
      "79/79 [==============================] - 32s 401ms/step - loss: 0.1471 - accuracy: 0.9446 - val_loss: 0.4022 - val_accuracy: 0.8902\n",
      "Epoch 5/25\n",
      "79/79 [==============================] - 34s 425ms/step - loss: 0.1198 - accuracy: 0.9572 - val_loss: 0.3808 - val_accuracy: 0.8902\n",
      "Epoch 6/25\n",
      "79/79 [==============================] - 33s 423ms/step - loss: 0.1264 - accuracy: 0.9568 - val_loss: 0.6587 - val_accuracy: 0.8171\n",
      "Epoch 7/25\n",
      "79/79 [==============================] - 32s 401ms/step - loss: 0.0925 - accuracy: 0.9640 - val_loss: 1.0544 - val_accuracy: 0.7683\n",
      "Epoch 8/25\n",
      "79/79 [==============================] - 32s 409ms/step - loss: 0.1010 - accuracy: 0.9644 - val_loss: 0.6764 - val_accuracy: 0.8171\n",
      "Epoch 9/25\n",
      "79/79 [==============================] - 42s 529ms/step - loss: 0.0990 - accuracy: 0.9572 - val_loss: 1.1708 - val_accuracy: 0.7073\n",
      "Epoch 10/25\n",
      "79/79 [==============================] - 43s 541ms/step - loss: 0.1004 - accuracy: 0.9576 - val_loss: 0.9305 - val_accuracy: 0.7805\n",
      "Epoch 11/25\n",
      "79/79 [==============================] - 42s 535ms/step - loss: 0.0884 - accuracy: 0.9703 - val_loss: 1.0780 - val_accuracy: 0.7317\n",
      "Epoch 12/25\n",
      "79/79 [==============================] - 34s 424ms/step - loss: 0.0677 - accuracy: 0.9751 - val_loss: 0.4686 - val_accuracy: 0.8902\n",
      "Epoch 13/25\n",
      "79/79 [==============================] - 32s 402ms/step - loss: 0.0593 - accuracy: 0.9778 - val_loss: 0.6730 - val_accuracy: 0.8537\n",
      "Epoch 14/25\n",
      "79/79 [==============================] - 32s 402ms/step - loss: 0.0591 - accuracy: 0.9770 - val_loss: 1.7332 - val_accuracy: 0.7073\n",
      "Epoch 15/25\n",
      "79/79 [==============================] - 32s 411ms/step - loss: 0.0648 - accuracy: 0.9731 - val_loss: 1.9107 - val_accuracy: 0.6585\n",
      "Epoch 16/25\n",
      "79/79 [==============================] - 35s 441ms/step - loss: 0.0754 - accuracy: 0.9727 - val_loss: 0.8867 - val_accuracy: 0.8171\n",
      "Epoch 17/25\n",
      "79/79 [==============================] - 33s 422ms/step - loss: 0.0581 - accuracy: 0.9778 - val_loss: 0.9764 - val_accuracy: 0.8415\n",
      "Epoch 18/25\n",
      "79/79 [==============================] - 32s 406ms/step - loss: 0.0531 - accuracy: 0.9810 - val_loss: 1.7269 - val_accuracy: 0.6463\n",
      "Epoch 19/25\n",
      "79/79 [==============================] - 32s 406ms/step - loss: 0.0525 - accuracy: 0.9786 - val_loss: 1.0919 - val_accuracy: 0.8293\n",
      "Epoch 20/25\n",
      "79/79 [==============================] - 32s 407ms/step - loss: 0.0401 - accuracy: 0.9865 - val_loss: 1.0021 - val_accuracy: 0.8171\n",
      "Epoch 21/25\n",
      "79/79 [==============================] - 32s 405ms/step - loss: 0.0475 - accuracy: 0.9798 - val_loss: 2.9525 - val_accuracy: 0.5854\n",
      "Epoch 22/25\n",
      "79/79 [==============================] - 32s 405ms/step - loss: 0.0442 - accuracy: 0.9830 - val_loss: 0.8699 - val_accuracy: 0.8415\n",
      "Epoch 23/25\n",
      "79/79 [==============================] - 32s 406ms/step - loss: 0.0361 - accuracy: 0.9865 - val_loss: 1.0380 - val_accuracy: 0.8537\n",
      "Epoch 24/25\n",
      "79/79 [==============================] - 32s 408ms/step - loss: 0.0423 - accuracy: 0.9834 - val_loss: 1.0193 - val_accuracy: 0.8537\n",
      "Epoch 25/25\n",
      "79/79 [==============================] - 32s 401ms/step - loss: 0.0453 - accuracy: 0.9818 - val_loss: 1.4519 - val_accuracy: 0.8049\n"
     ]
    },
    {
     "data": {
      "text/plain": [
       "<tensorflow.python.keras.callbacks.History at 0x7f7c37665280>"
      ]
     },
     "execution_count": 14,
     "metadata": {},
     "output_type": "execute_result"
    }
   ],
   "source": [
    "# Gerando Épocas\n",
    "cnn_classifier.fit(x = training_set, validation_data = test_set, epochs = 25)\n"
   ]
  },
  {
   "cell_type": "code",
   "execution_count": null,
   "metadata": {},
   "outputs": [],
   "source": [
    "#accuracy: 0.9818 -relu -relu -sigmoid"
   ]
  }
 ],
 "metadata": {
  "kernelspec": {
   "display_name": "Python 3",
   "language": "python",
   "name": "python3"
  },
  "language_info": {
   "codemirror_mode": {
    "name": "ipython",
    "version": 3
   },
   "file_extension": ".py",
   "mimetype": "text/x-python",
   "name": "python",
   "nbconvert_exporter": "python",
   "pygments_lexer": "ipython3",
   "version": "3.8.5"
  }
 },
 "nbformat": 4,
 "nbformat_minor": 4
}
