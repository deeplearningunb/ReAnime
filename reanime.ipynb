{
 "cells": [
  {
   "cell_type": "markdown",
   "metadata": {},
   "source": [
    "##    Importando bibliotecas"
   ]
  },
  {
   "cell_type": "code",
   "execution_count": null,
   "metadata": {},
   "outputs": [
    {
     "name": "stdout",
     "output_type": "stream",
     "text": [
      "Requirement already satisfied: tensorflow==2.3.0 in /home/serafim/.local/lib/python3.8/site-packages (from -r requirements.txt (line 1)) (2.3.0)\n",
      "Collecting numpy==1.16.2\n",
      "  Using cached numpy-1.16.2.zip (5.1 MB)\n",
      "Collecting pandas==0.24.2\n",
      "  Using cached pandas-0.24.2.tar.gz (11.8 MB)\n",
      "Requirement already satisfied: matplotlib==3.3.1 in /home/serafim/.local/lib/python3.8/site-packages (from -r requirements.txt (line 4)) (3.3.1)\n",
      "Collecting Keras==2.2.4\n",
      "  Using cached Keras-2.2.4-py2.py3-none-any.whl (312 kB)\n",
      "Requirement already satisfied: sklearn==0.0 in /home/serafim/.local/lib/python3.8/site-packages (from -r requirements.txt (line 6)) (0.0)\n",
      "Requirement already satisfied: six>=1.12.0 in /usr/lib/python3/dist-packages (from tensorflow==2.3.0->-r requirements.txt (line 1)) (1.14.0)\n",
      "Requirement already satisfied: protobuf>=3.9.2 in /home/serafim/.local/lib/python3.8/site-packages (from tensorflow==2.3.0->-r requirements.txt (line 1)) (3.13.0)\n",
      "Requirement already satisfied: keras-preprocessing<1.2,>=1.1.1 in /home/serafim/.local/lib/python3.8/site-packages (from tensorflow==2.3.0->-r requirements.txt (line 1)) (1.1.2)\n",
      "Requirement already satisfied: wheel>=0.26 in /usr/lib/python3/dist-packages (from tensorflow==2.3.0->-r requirements.txt (line 1)) (0.34.2)\n",
      "Requirement already satisfied: tensorflow-estimator<2.4.0,>=2.3.0 in /home/serafim/.local/lib/python3.8/site-packages (from tensorflow==2.3.0->-r requirements.txt (line 1)) (2.3.0)\n",
      "Requirement already satisfied: h5py<2.11.0,>=2.10.0 in /home/serafim/.local/lib/python3.8/site-packages (from tensorflow==2.3.0->-r requirements.txt (line 1)) (2.10.0)\n",
      "Requirement already satisfied: grpcio>=1.8.6 in /home/serafim/.local/lib/python3.8/site-packages (from tensorflow==2.3.0->-r requirements.txt (line 1)) (1.31.0)\n",
      "Requirement already satisfied: wrapt>=1.11.1 in /home/serafim/.local/lib/python3.8/site-packages (from tensorflow==2.3.0->-r requirements.txt (line 1)) (1.12.1)\n",
      "Requirement already satisfied: scipy==1.4.1 in /home/serafim/.local/lib/python3.8/site-packages (from tensorflow==2.3.0->-r requirements.txt (line 1)) (1.4.1)\n",
      "Requirement already satisfied: tensorboard<3,>=2.3.0 in /home/serafim/.local/lib/python3.8/site-packages (from tensorflow==2.3.0->-r requirements.txt (line 1)) (2.3.0)\n",
      "Requirement already satisfied: opt-einsum>=2.3.2 in /home/serafim/.local/lib/python3.8/site-packages (from tensorflow==2.3.0->-r requirements.txt (line 1)) (3.3.0)\n",
      "Requirement already satisfied: astunparse==1.6.3 in /home/serafim/.local/lib/python3.8/site-packages (from tensorflow==2.3.0->-r requirements.txt (line 1)) (1.6.3)\n",
      "Requirement already satisfied: absl-py>=0.7.0 in /home/serafim/.local/lib/python3.8/site-packages (from tensorflow==2.3.0->-r requirements.txt (line 1)) (0.10.0)\n",
      "Requirement already satisfied: gast==0.3.3 in /home/serafim/.local/lib/python3.8/site-packages (from tensorflow==2.3.0->-r requirements.txt (line 1)) (0.3.3)\n",
      "Requirement already satisfied: google-pasta>=0.1.8 in /home/serafim/.local/lib/python3.8/site-packages (from tensorflow==2.3.0->-r requirements.txt (line 1)) (0.2.0)\n",
      "Requirement already satisfied: termcolor>=1.1.0 in /home/serafim/.local/lib/python3.8/site-packages (from tensorflow==2.3.0->-r requirements.txt (line 1)) (1.1.0)\n",
      "Requirement already satisfied: python-dateutil>=2.5.0 in /usr/lib/python3/dist-packages (from pandas==0.24.2->-r requirements.txt (line 3)) (2.7.3)\n",
      "Requirement already satisfied: pytz>=2011k in /usr/lib/python3/dist-packages (from pandas==0.24.2->-r requirements.txt (line 3)) (2019.3)\n",
      "Requirement already satisfied: pyparsing!=2.0.4,!=2.1.2,!=2.1.6,>=2.0.3 in /home/serafim/.local/lib/python3.8/site-packages (from matplotlib==3.3.1->-r requirements.txt (line 4)) (2.4.7)\n",
      "Requirement already satisfied: kiwisolver>=1.0.1 in /home/serafim/.local/lib/python3.8/site-packages (from matplotlib==3.3.1->-r requirements.txt (line 4)) (1.2.0)\n",
      "Requirement already satisfied: cycler>=0.10 in /home/serafim/.local/lib/python3.8/site-packages (from matplotlib==3.3.1->-r requirements.txt (line 4)) (0.10.0)\n",
      "Requirement already satisfied: certifi>=2020.06.20 in /home/serafim/.local/lib/python3.8/site-packages (from matplotlib==3.3.1->-r requirements.txt (line 4)) (2020.6.20)\n",
      "Requirement already satisfied: pillow>=6.2.0 in /usr/lib/python3/dist-packages (from matplotlib==3.3.1->-r requirements.txt (line 4)) (7.0.0)\n",
      "Requirement already satisfied: pyyaml in /usr/lib/python3/dist-packages (from Keras==2.2.4->-r requirements.txt (line 5)) (5.3.1)\n",
      "Collecting keras-applications>=1.0.6\n",
      "  Using cached Keras_Applications-1.0.8-py3-none-any.whl (50 kB)\n",
      "Requirement already satisfied: scikit-learn in /home/serafim/.local/lib/python3.8/site-packages (from sklearn==0.0->-r requirements.txt (line 6)) (0.23.2)\n",
      "Requirement already satisfied: setuptools in /usr/lib/python3/dist-packages (from protobuf>=3.9.2->tensorflow==2.3.0->-r requirements.txt (line 1)) (45.2.0)\n",
      "Requirement already satisfied: google-auth-oauthlib<0.5,>=0.4.1 in /home/serafim/.local/lib/python3.8/site-packages (from tensorboard<3,>=2.3.0->tensorflow==2.3.0->-r requirements.txt (line 1)) (0.4.1)\n",
      "Requirement already satisfied: google-auth<2,>=1.6.3 in /home/serafim/.local/lib/python3.8/site-packages (from tensorboard<3,>=2.3.0->tensorflow==2.3.0->-r requirements.txt (line 1)) (1.21.0)\n",
      "Requirement already satisfied: requests<3,>=2.21.0 in /usr/lib/python3/dist-packages (from tensorboard<3,>=2.3.0->tensorflow==2.3.0->-r requirements.txt (line 1)) (2.22.0)\n",
      "Requirement already satisfied: markdown>=2.6.8 in /home/serafim/.local/lib/python3.8/site-packages (from tensorboard<3,>=2.3.0->tensorflow==2.3.0->-r requirements.txt (line 1)) (3.2.2)\n",
      "Requirement already satisfied: tensorboard-plugin-wit>=1.6.0 in /home/serafim/.local/lib/python3.8/site-packages (from tensorboard<3,>=2.3.0->tensorflow==2.3.0->-r requirements.txt (line 1)) (1.7.0)\n",
      "Requirement already satisfied: werkzeug>=0.11.15 in /home/serafim/.local/lib/python3.8/site-packages (from tensorboard<3,>=2.3.0->tensorflow==2.3.0->-r requirements.txt (line 1)) (1.0.1)\n",
      "Requirement already satisfied: joblib>=0.11 in /home/serafim/.local/lib/python3.8/site-packages (from scikit-learn->sklearn==0.0->-r requirements.txt (line 6)) (0.16.0)\n",
      "Requirement already satisfied: threadpoolctl>=2.0.0 in /home/serafim/.local/lib/python3.8/site-packages (from scikit-learn->sklearn==0.0->-r requirements.txt (line 6)) (2.1.0)\n",
      "Requirement already satisfied: requests-oauthlib>=0.7.0 in /home/serafim/.local/lib/python3.8/site-packages (from google-auth-oauthlib<0.5,>=0.4.1->tensorboard<3,>=2.3.0->tensorflow==2.3.0->-r requirements.txt (line 1)) (1.3.0)\n",
      "Requirement already satisfied: pyasn1-modules>=0.2.1 in /home/serafim/.local/lib/python3.8/site-packages (from google-auth<2,>=1.6.3->tensorboard<3,>=2.3.0->tensorflow==2.3.0->-r requirements.txt (line 1)) (0.2.8)\n",
      "Requirement already satisfied: cachetools<5.0,>=2.0.0 in /home/serafim/.local/lib/python3.8/site-packages (from google-auth<2,>=1.6.3->tensorboard<3,>=2.3.0->tensorflow==2.3.0->-r requirements.txt (line 1)) (4.1.1)\n",
      "Requirement already satisfied: rsa<5,>=3.1.4; python_version >= \"3.5\" in /home/serafim/.local/lib/python3.8/site-packages (from google-auth<2,>=1.6.3->tensorboard<3,>=2.3.0->tensorflow==2.3.0->-r requirements.txt (line 1)) (4.6)\n",
      "Requirement already satisfied: oauthlib>=3.0.0 in /usr/lib/python3/dist-packages (from requests-oauthlib>=0.7.0->google-auth-oauthlib<0.5,>=0.4.1->tensorboard<3,>=2.3.0->tensorflow==2.3.0->-r requirements.txt (line 1)) (3.1.0)\n",
      "Requirement already satisfied: pyasn1<0.5.0,>=0.4.6 in /home/serafim/.local/lib/python3.8/site-packages (from pyasn1-modules>=0.2.1->google-auth<2,>=1.6.3->tensorboard<3,>=2.3.0->tensorflow==2.3.0->-r requirements.txt (line 1)) (0.4.8)\n",
      "Building wheels for collected packages: numpy, pandas\n",
      "  Building wheel for numpy (setup.py) ... \u001b[?25ldone\n",
      "\u001b[?25h  Created wheel for numpy: filename=numpy-1.16.2-cp38-cp38-linux_x86_64.whl size=13539991 sha256=c9b24497ea611eefe0d7a52bd8083fa4cf11b5b285d544f8bf6ed91da91a33d6\n",
      "  Stored in directory: /home/serafim/.cache/pip/wheels/c7/1a/26/d24add95f4ea99e790c3a8b339fb5b46b66f9849142d1b93c5\n",
      "  Building wheel for pandas (setup.py) ... \u001b[?25l/"
     ]
    }
   ],
   "source": [
    "pip install -r requirements.txt"
   ]
  },
  {
   "cell_type": "code",
   "execution_count": null,
   "metadata": {},
   "outputs": [],
   "source": [
    "#Importando bibliotecas\n",
    "from keras.preprocessing.image ImageDataGenerator\n",
    "from keras.models import Sequential\n",
    "from keras.layers import Conv2D\n",
    "from keras.layers import MaxPooling2D\n",
    "from keras.layers import Flatten\n",
    "from keras.layers import Dense"
   ]
  },
  {
   "cell_type": "markdown",
   "metadata": {},
   "source": [
    "## Parte 1 - Pré processamento de dados"
   ]
  },
  {
   "cell_type": "code",
   "execution_count": null,
   "metadata": {},
   "outputs": [],
   "source": [
    "##Falta terminar de preencher os parametros do dataset##\n",
    "#Test Set\n",
    "test_datagen = ImageDataGenerator(rescale = 1./255)\n",
    "test_set = test_datagen.flow_from_directory('dataset/test_set',\n",
    "                                           target_size = (),\n",
    "                                           batch_size = ,\n",
    "                                           class_mode = '')\n",
    "#Train Set\n",
    "train_datagen = ImageDataGenerator(rescale = 1./255, \n",
    "                                   shear_range = 0.2, \n",
    "                                   zoom_range = 0.2,\n",
    "                                   horizontal_flip = True)\n",
    "\n",
    "training_set = train_datagen.flow_from_directory('dataset/training_set',\n",
    "                                                 target_size = (,),\n",
    "                                                 batch_size = ,\n",
    "                                                 class_mode = '')"
   ]
  }
 ],
 "metadata": {
  "kernelspec": {
   "display_name": "Python 3",
   "language": "python",
   "name": "python3"
  },
  "language_info": {
   "codemirror_mode": {
    "name": "ipython",
    "version": 3
   },
   "file_extension": ".py",
   "mimetype": "text/x-python",
   "name": "python",
   "nbconvert_exporter": "python",
   "pygments_lexer": "ipython3",
   "version": "3.8.5"
  }
 },
 "nbformat": 4,
 "nbformat_minor": 4
}
