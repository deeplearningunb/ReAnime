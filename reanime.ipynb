{
 "cells": [
  {
   "cell_type": "markdown",
   "metadata": {},
   "source": [
    "##    Importando bibliotecas"
   ]
  },
  {
   "cell_type": "code",
   "execution_count": 1,
   "metadata": {},
   "outputs": [
    {
     "name": "stdout",
     "output_type": "stream",
     "text": [
      "Defaulting to user installation because normal site-packages is not writeable\n",
      "Requirement already satisfied: tensorflow==2.3.0 in /home/leticia/.local/lib/python3.8/site-packages (from -r requirements.txt (line 1)) (2.3.0)\n",
      "Requirement already satisfied: numpy==1.16.2 in /home/leticia/.local/lib/python3.8/site-packages (from -r requirements.txt (line 2)) (1.16.2)\n",
      "Requirement already satisfied: pandas==0.24.2 in /home/leticia/.local/lib/python3.8/site-packages (from -r requirements.txt (line 3)) (0.24.2)\n",
      "Requirement already satisfied: matplotlib==3.3.1 in /home/leticia/.local/lib/python3.8/site-packages (from -r requirements.txt (line 4)) (3.3.1)\n",
      "Requirement already satisfied: Keras==2.2.4 in /home/leticia/.local/lib/python3.8/site-packages (from -r requirements.txt (line 5)) (2.2.4)\n",
      "Requirement already satisfied: sklearn==0.0 in /home/leticia/.local/lib/python3.8/site-packages (from -r requirements.txt (line 6)) (0.0)\n",
      "Requirement already satisfied: opt-einsum>=2.3.2 in /home/leticia/.local/lib/python3.8/site-packages (from tensorflow==2.3.0->-r requirements.txt (line 1)) (3.3.0)\n",
      "Requirement already satisfied: protobuf>=3.9.2 in /home/leticia/.local/lib/python3.8/site-packages (from tensorflow==2.3.0->-r requirements.txt (line 1)) (3.13.0)\n",
      "Requirement already satisfied: scipy==1.4.1 in /home/leticia/.local/lib/python3.8/site-packages (from tensorflow==2.3.0->-r requirements.txt (line 1)) (1.4.1)\n",
      "Requirement already satisfied: absl-py>=0.7.0 in /home/leticia/.local/lib/python3.8/site-packages (from tensorflow==2.3.0->-r requirements.txt (line 1)) (0.11.0)\n",
      "Requirement already satisfied: grpcio>=1.8.6 in /home/leticia/.local/lib/python3.8/site-packages (from tensorflow==2.3.0->-r requirements.txt (line 1)) (1.33.2)\n",
      "Requirement already satisfied: keras-preprocessing<1.2,>=1.1.1 in /home/leticia/.local/lib/python3.8/site-packages (from tensorflow==2.3.0->-r requirements.txt (line 1)) (1.1.2)\n",
      "Requirement already satisfied: tensorflow-estimator<2.4.0,>=2.3.0 in /home/leticia/.local/lib/python3.8/site-packages (from tensorflow==2.3.0->-r requirements.txt (line 1)) (2.3.0)\n",
      "Requirement already satisfied: termcolor>=1.1.0 in /home/leticia/.local/lib/python3.8/site-packages (from tensorflow==2.3.0->-r requirements.txt (line 1)) (1.1.0)\n",
      "Requirement already satisfied: gast==0.3.3 in /home/leticia/.local/lib/python3.8/site-packages (from tensorflow==2.3.0->-r requirements.txt (line 1)) (0.3.3)\n",
      "Requirement already satisfied: tensorboard<3,>=2.3.0 in /home/leticia/.local/lib/python3.8/site-packages (from tensorflow==2.3.0->-r requirements.txt (line 1)) (2.3.0)\n",
      "Requirement already satisfied: six>=1.12.0 in /usr/lib/python3/dist-packages (from tensorflow==2.3.0->-r requirements.txt (line 1)) (1.14.0)\n",
      "Requirement already satisfied: google-pasta>=0.1.8 in /home/leticia/.local/lib/python3.8/site-packages (from tensorflow==2.3.0->-r requirements.txt (line 1)) (0.2.0)\n",
      "Requirement already satisfied: h5py<2.11.0,>=2.10.0 in /home/leticia/.local/lib/python3.8/site-packages (from tensorflow==2.3.0->-r requirements.txt (line 1)) (2.10.0)\n",
      "Requirement already satisfied: astunparse==1.6.3 in /home/leticia/.local/lib/python3.8/site-packages (from tensorflow==2.3.0->-r requirements.txt (line 1)) (1.6.3)\n",
      "Requirement already satisfied: wrapt>=1.11.1 in /home/leticia/.local/lib/python3.8/site-packages (from tensorflow==2.3.0->-r requirements.txt (line 1)) (1.12.1)\n",
      "Requirement already satisfied: wheel>=0.26 in /usr/lib/python3/dist-packages (from tensorflow==2.3.0->-r requirements.txt (line 1)) (0.34.2)\n",
      "Requirement already satisfied: pytz>=2011k in /usr/lib/python3/dist-packages (from pandas==0.24.2->-r requirements.txt (line 3)) (2019.3)\n",
      "Requirement already satisfied: python-dateutil>=2.5.0 in /usr/lib/python3/dist-packages (from pandas==0.24.2->-r requirements.txt (line 3)) (2.7.3)\n",
      "Requirement already satisfied: cycler>=0.10 in /home/leticia/.local/lib/python3.8/site-packages (from matplotlib==3.3.1->-r requirements.txt (line 4)) (0.10.0)\n",
      "Requirement already satisfied: certifi>=2020.06.20 in /home/leticia/.local/lib/python3.8/site-packages (from matplotlib==3.3.1->-r requirements.txt (line 4)) (2020.6.20)\n",
      "Requirement already satisfied: pyparsing!=2.0.4,!=2.1.2,!=2.1.6,>=2.0.3 in /usr/lib/python3/dist-packages (from matplotlib==3.3.1->-r requirements.txt (line 4)) (2.4.6)\n",
      "Requirement already satisfied: pillow>=6.2.0 in /usr/lib/python3/dist-packages (from matplotlib==3.3.1->-r requirements.txt (line 4)) (7.0.0)\n",
      "Requirement already satisfied: kiwisolver>=1.0.1 in /home/leticia/.local/lib/python3.8/site-packages (from matplotlib==3.3.1->-r requirements.txt (line 4)) (1.3.1)\n",
      "Requirement already satisfied: keras-applications>=1.0.6 in /home/leticia/.local/lib/python3.8/site-packages (from Keras==2.2.4->-r requirements.txt (line 5)) (1.0.8)\n",
      "Requirement already satisfied: pyyaml in /usr/lib/python3/dist-packages (from Keras==2.2.4->-r requirements.txt (line 5)) (5.3.1)\n",
      "Requirement already satisfied: scikit-learn in /home/leticia/.local/lib/python3.8/site-packages (from sklearn==0.0->-r requirements.txt (line 6)) (0.23.2)\n",
      "Requirement already satisfied: setuptools in /usr/lib/python3/dist-packages (from protobuf>=3.9.2->tensorflow==2.3.0->-r requirements.txt (line 1)) (45.2.0)\n",
      "Requirement already satisfied: google-auth-oauthlib<0.5,>=0.4.1 in /home/leticia/.local/lib/python3.8/site-packages (from tensorboard<3,>=2.3.0->tensorflow==2.3.0->-r requirements.txt (line 1)) (0.4.2)\n",
      "Requirement already satisfied: werkzeug>=0.11.15 in /home/leticia/.local/lib/python3.8/site-packages (from tensorboard<3,>=2.3.0->tensorflow==2.3.0->-r requirements.txt (line 1)) (1.0.1)\n",
      "Requirement already satisfied: markdown>=2.6.8 in /usr/lib/python3/dist-packages (from tensorboard<3,>=2.3.0->tensorflow==2.3.0->-r requirements.txt (line 1)) (3.1.1)\n",
      "Requirement already satisfied: tensorboard-plugin-wit>=1.6.0 in /home/leticia/.local/lib/python3.8/site-packages (from tensorboard<3,>=2.3.0->tensorflow==2.3.0->-r requirements.txt (line 1)) (1.7.0)\n",
      "Requirement already satisfied: google-auth<2,>=1.6.3 in /home/leticia/.local/lib/python3.8/site-packages (from tensorboard<3,>=2.3.0->tensorflow==2.3.0->-r requirements.txt (line 1)) (1.23.0)\n",
      "Requirement already satisfied: requests<3,>=2.21.0 in /usr/lib/python3/dist-packages (from tensorboard<3,>=2.3.0->tensorflow==2.3.0->-r requirements.txt (line 1)) (2.22.0)\n",
      "Requirement already satisfied: joblib>=0.11 in /home/leticia/.local/lib/python3.8/site-packages (from scikit-learn->sklearn==0.0->-r requirements.txt (line 6)) (0.17.0)\n",
      "Requirement already satisfied: threadpoolctl>=2.0.0 in /home/leticia/.local/lib/python3.8/site-packages (from scikit-learn->sklearn==0.0->-r requirements.txt (line 6)) (2.1.0)\n",
      "Requirement already satisfied: requests-oauthlib>=0.7.0 in /home/leticia/.local/lib/python3.8/site-packages (from google-auth-oauthlib<0.5,>=0.4.1->tensorboard<3,>=2.3.0->tensorflow==2.3.0->-r requirements.txt (line 1)) (1.3.0)\n",
      "Requirement already satisfied: pyasn1-modules>=0.2.1 in /home/leticia/.local/lib/python3.8/site-packages (from google-auth<2,>=1.6.3->tensorboard<3,>=2.3.0->tensorflow==2.3.0->-r requirements.txt (line 1)) (0.2.8)\n",
      "Requirement already satisfied: cachetools<5.0,>=2.0.0 in /home/leticia/.local/lib/python3.8/site-packages (from google-auth<2,>=1.6.3->tensorboard<3,>=2.3.0->tensorflow==2.3.0->-r requirements.txt (line 1)) (4.1.1)\n",
      "Requirement already satisfied: rsa<5,>=3.1.4; python_version >= \"3.5\" in /home/leticia/.local/lib/python3.8/site-packages (from google-auth<2,>=1.6.3->tensorboard<3,>=2.3.0->tensorflow==2.3.0->-r requirements.txt (line 1)) (4.6)\n",
      "Requirement already satisfied: oauthlib>=3.0.0 in /usr/lib/python3/dist-packages (from requests-oauthlib>=0.7.0->google-auth-oauthlib<0.5,>=0.4.1->tensorboard<3,>=2.3.0->tensorflow==2.3.0->-r requirements.txt (line 1)) (3.1.0)\n",
      "Requirement already satisfied: pyasn1<0.5.0,>=0.4.6 in /home/leticia/.local/lib/python3.8/site-packages (from pyasn1-modules>=0.2.1->google-auth<2,>=1.6.3->tensorboard<3,>=2.3.0->tensorflow==2.3.0->-r requirements.txt (line 1)) (0.4.8)\n",
      "Note: you may need to restart the kernel to use updated packages.\n"
     ]
    }
   ],
   "source": [
    "pip install -r requirements.txt"
   ]
  },
  {
   "cell_type": "code",
   "execution_count": 2,
   "metadata": {},
   "outputs": [],
   "source": [
    "#Importando bibliotecas\n",
    "import tensorflow\n",
    "from tensorflow.keras.preprocessing.image import ImageDataGenerator\n",
    "from tensorflow.keras.models import Sequential\n",
    "from tensorflow.keras.layers import Conv2D\n",
    "from tensorflow.keras.layers import MaxPooling2D\n",
    "from tensorflow.keras.layers import Flatten\n",
    "from tensorflow.keras.layers import Dense\n",
    "import numpy\n",
    "from tensorflow.keras.preprocessing.image import load_img"
   ]
  },
  {
   "cell_type": "markdown",
   "metadata": {},
   "source": [
    "## Parte 1 - Pré-Processamento de Dados"
   ]
  },
  {
   "cell_type": "code",
   "execution_count": 3,
   "metadata": {},
   "outputs": [
    {
     "name": "stdout",
     "output_type": "stream",
     "text": [
      "Found 82 images belonging to 2 classes.\n",
      "Found 2526 images belonging to 2 classes.\n"
     ]
    }
   ],
   "source": [
    "#Test Set\n",
    "test_datagen = ImageDataGenerator(rescale = 1./255)\n",
    "test_set = test_datagen.flow_from_directory('dataset/test_set',\n",
    "                                           target_size = (64, 64),\n",
    "                                           batch_size = 32,\n",
    "                                           class_mode = 'binary')\n",
    "#Train Set\n",
    "train_datagen = ImageDataGenerator(rescale = 1./255, \n",
    "                                   shear_range = 0.2, \n",
    "                                   zoom_range = 0.2,\n",
    "                                   horizontal_flip = True)\n",
    "\n",
    "training_set = train_datagen.flow_from_directory('dataset/training_set',\n",
    "                                                 target_size = (64, 64),\n",
    "                                                 batch_size = 32,\n",
    "                                                 class_mode = 'binary')"
   ]
  },
  {
   "cell_type": "markdown",
   "metadata": {},
   "source": [
    "## Parte 2 - Gerando CNN"
   ]
  },
  {
   "cell_type": "code",
   "execution_count": 4,
   "metadata": {},
   "outputs": [],
   "source": [
    "# Inicializando \n",
    "cnn_classifier = Sequential()\n",
    "\n",
    "# Camada 1\n",
    "cnn_classifier.add(Conv2D(32, (3, 3), input_shape=(64, 64, 3), activation='relu'))\n",
    "\n",
    "# Agrupamento 1\n",
    "cnn_classifier.add(MaxPooling2D(pool_size=(2, 2)))\n",
    "\n",
    "# Camada 2\n",
    "cnn_classifier.add(Conv2D(32, (3, 3), activation='relu'))\n",
    "\n",
    "# Agrupamento 2\n",
    "cnn_classifier.add(MaxPooling2D(pool_size=(2, 2)))\n",
    "\n",
    "# Flattening\n",
    "cnn_classifier.add(Flatten())\n",
    "\n",
    "# Fazendo a junção das camadas\n",
    "cnn_classifier.add(Dense(units=128, activation='relu'))\n",
    "\n",
    "# Camada de saída\n",
    "cnn_classifier.add(Dense(units=1, activation='sigmoid'))\n",
    "\n",
    "# Compilando CNN\n",
    "cnn_classifier.compile(\n",
    "    optimizer='adam', loss='binary_crossentropy', metrics=['accuracy'])"
   ]
  },
  {
   "cell_type": "markdown",
   "metadata": {},
   "source": [
    "## Parte 3 - Treinando CNN "
   ]
  },
  {
   "cell_type": "code",
   "execution_count": 5,
   "metadata": {},
   "outputs": [
    {
     "name": "stdout",
     "output_type": "stream",
     "text": [
      "Epoch 1/25\n",
      " 2/79 [..............................] - ETA: 7s - loss: 0.5469 - accuracy: 0.5156"
     ]
    },
    {
     "name": "stderr",
     "output_type": "stream",
     "text": [
      "/usr/lib/python3/dist-packages/PIL/Image.py:931: UserWarning: Palette images with Transparency expressed in bytes should be converted to RGBA images\n",
      "  warnings.warn(\n"
     ]
    },
    {
     "name": "stdout",
     "output_type": "stream",
     "text": [
      "79/79 [==============================] - 75s 946ms/step - loss: 0.3440 - accuracy: 0.8254 - val_loss: 0.8607 - val_accuracy: 0.4634\n",
      "Epoch 2/25\n",
      "79/79 [==============================] - 39s 499ms/step - loss: 0.2296 - accuracy: 0.9034 - val_loss: 0.4059 - val_accuracy: 0.8659\n",
      "Epoch 3/25\n",
      "79/79 [==============================] - 51s 643ms/step - loss: 0.1883 - accuracy: 0.9204 - val_loss: 0.7392 - val_accuracy: 0.7805\n",
      "Epoch 4/25\n",
      "79/79 [==============================] - 40s 507ms/step - loss: 0.1386 - accuracy: 0.9485 - val_loss: 0.3791 - val_accuracy: 0.8780\n",
      "Epoch 5/25\n",
      "79/79 [==============================] - 47s 594ms/step - loss: 0.1491 - accuracy: 0.9458 - val_loss: 0.7056 - val_accuracy: 0.7683\n",
      "Epoch 6/25\n",
      "79/79 [==============================] - 53s 668ms/step - loss: 0.1141 - accuracy: 0.9537 - val_loss: 0.5937 - val_accuracy: 0.8415\n",
      "Epoch 7/25\n",
      "79/79 [==============================] - 55s 698ms/step - loss: 0.0874 - accuracy: 0.9640 - val_loss: 0.8137 - val_accuracy: 0.7683\n",
      "Epoch 8/25\n",
      "79/79 [==============================] - 58s 734ms/step - loss: 0.0835 - accuracy: 0.9663 - val_loss: 1.2598 - val_accuracy: 0.6951\n",
      "Epoch 9/25\n",
      "79/79 [==============================] - 32s 399ms/step - loss: 0.0946 - accuracy: 0.9620 - val_loss: 0.2630 - val_accuracy: 0.9146\n",
      "Epoch 10/25\n",
      "79/79 [==============================] - 45s 572ms/step - loss: 0.0846 - accuracy: 0.9660 - val_loss: 0.7712 - val_accuracy: 0.7927\n",
      "Epoch 11/25\n",
      "79/79 [==============================] - 48s 613ms/step - loss: 0.0646 - accuracy: 0.9755 - val_loss: 0.8949 - val_accuracy: 0.8293\n",
      "Epoch 12/25\n",
      "79/79 [==============================] - 46s 587ms/step - loss: 0.0626 - accuracy: 0.9743 - val_loss: 0.5682 - val_accuracy: 0.8537\n",
      "Epoch 13/25\n",
      "79/79 [==============================] - 49s 619ms/step - loss: 0.0704 - accuracy: 0.9747 - val_loss: 2.0694 - val_accuracy: 0.6220\n",
      "Epoch 14/25\n",
      "79/79 [==============================] - 46s 584ms/step - loss: 0.0622 - accuracy: 0.9798 - val_loss: 0.6502 - val_accuracy: 0.8780\n",
      "Epoch 15/25\n",
      "79/79 [==============================] - 61s 768ms/step - loss: 0.0521 - accuracy: 0.9806 - val_loss: 1.0314 - val_accuracy: 0.8293\n",
      "Epoch 16/25\n",
      "79/79 [==============================] - 53s 673ms/step - loss: 0.0547 - accuracy: 0.9798 - val_loss: 1.0937 - val_accuracy: 0.8171\n",
      "Epoch 17/25\n",
      "79/79 [==============================] - 53s 668ms/step - loss: 0.0616 - accuracy: 0.9774 - val_loss: 1.5431 - val_accuracy: 0.7195\n",
      "Epoch 18/25\n",
      "79/79 [==============================] - 52s 659ms/step - loss: 0.0445 - accuracy: 0.9846 - val_loss: 1.0108 - val_accuracy: 0.8171\n",
      "Epoch 19/25\n",
      "79/79 [==============================] - 40s 501ms/step - loss: 0.0541 - accuracy: 0.9806 - val_loss: 1.3624 - val_accuracy: 0.7439\n",
      "Epoch 20/25\n",
      "79/79 [==============================] - 48s 609ms/step - loss: 0.0389 - accuracy: 0.9857 - val_loss: 1.1361 - val_accuracy: 0.8049\n",
      "Epoch 21/25\n",
      "79/79 [==============================] - 47s 589ms/step - loss: 0.0390 - accuracy: 0.9850 - val_loss: 2.0550 - val_accuracy: 0.6951\n",
      "Epoch 22/25\n",
      "79/79 [==============================] - 36s 459ms/step - loss: 0.0506 - accuracy: 0.9790 - val_loss: 0.8465 - val_accuracy: 0.8537\n",
      "Epoch 23/25\n",
      "79/79 [==============================] - 40s 511ms/step - loss: 0.0581 - accuracy: 0.9802 - val_loss: 1.0106 - val_accuracy: 0.8293\n",
      "Epoch 24/25\n",
      "79/79 [==============================] - 42s 535ms/step - loss: 0.0302 - accuracy: 0.9885 - val_loss: 1.5674 - val_accuracy: 0.7927\n",
      "Epoch 25/25\n",
      "79/79 [==============================] - 33s 422ms/step - loss: 0.0358 - accuracy: 0.9857 - val_loss: 1.1014 - val_accuracy: 0.8293\n"
     ]
    },
    {
     "data": {
      "text/plain": [
       "<tensorflow.python.keras.callbacks.History at 0x7efe28376430>"
      ]
     },
     "execution_count": 5,
     "metadata": {},
     "output_type": "execute_result"
    }
   ],
   "source": [
    "# Gerando Épocas\n",
    "cnn_classifier.fit(x = training_set, validation_data = test_set, epochs = 25)\n"
   ]
  },
  {
   "cell_type": "code",
   "execution_count": 6,
   "metadata": {},
   "outputs": [],
   "source": [
    "#accuracy: 0.9818 -relu -relu -sigmoid"
   ]
  },
  {
   "cell_type": "markdown",
   "metadata": {},
   "source": [
    "## Parte 4 - Realizando testes"
   ]
  },
  {
   "cell_type": "code",
   "execution_count": 8,
   "metadata": {},
   "outputs": [
    {
     "name": "stdout",
     "output_type": "stream",
     "text": [
      "A foto de um(a): pessoa\n"
     ]
    }
   ],
   "source": [
    "from tensorflow.keras.preprocessing import image\n",
    "test_image = image.load_img('dataset/test_set/cartoon/1122.jpg', target_size = (64, 64))\n",
    "test_image = image.img_to_array(test_image)\n",
    "test_image = numpy.expand_dims(test_image, axis=0)\n",
    "result = cnn_classifier.predict(test_image)\n",
    "training_set.class_indices\n",
    "if result [0][0] == 1 : \n",
    "    prediction = 'anime'\n",
    "else :\n",
    "    prediction = 'pessoa'\n",
    "print('A foto de um(a): ' + prediction)"
   ]
  },
  {
   "cell_type": "code",
   "execution_count": 9,
   "metadata": {},
   "outputs": [
    {
     "name": "stdout",
     "output_type": "stream",
     "text": [
      "pessoa\n"
     ]
    }
   ],
   "source": [
    "print(prediction)\n"
   ]
  },
  {
   "cell_type": "code",
   "execution_count": null,
   "metadata": {},
   "outputs": [],
   "source": []
  }
 ],
 "metadata": {
  "kernelspec": {
   "display_name": "Python 3",
   "language": "python",
   "name": "python3"
  },
  "language_info": {
   "codemirror_mode": {
    "name": "ipython",
    "version": 3
   },
   "file_extension": ".py",
   "mimetype": "text/x-python",
   "name": "python",
   "nbconvert_exporter": "python",
   "pygments_lexer": "ipython3",
   "version": "3.8.5"
  }
 },
 "nbformat": 4,
 "nbformat_minor": 4
}
