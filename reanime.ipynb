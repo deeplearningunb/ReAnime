{
 "cells": [
  {
   "cell_type": "markdown",
   "metadata": {},
   "source": [
    "##    Importando bibliotecas"
   ]
  },
  {
   "cell_type": "code",
   "execution_count": 1,
   "metadata": {},
   "outputs": [
    {
     "name": "stdout",
     "output_type": "stream",
     "text": [
      "Requirement already satisfied: tensorflow==2.3.0 in /home/serafim/.local/lib/python3.8/site-packages (from -r requirements.txt (line 1)) (2.3.0)\n",
      "Requirement already satisfied: numpy==1.16.2 in /home/serafim/.local/lib/python3.8/site-packages (from -r requirements.txt (line 2)) (1.16.2)\n",
      "Requirement already satisfied: pandas==0.24.2 in /home/serafim/.local/lib/python3.8/site-packages (from -r requirements.txt (line 3)) (0.24.2)\n",
      "Requirement already satisfied: matplotlib==3.3.1 in /home/serafim/.local/lib/python3.8/site-packages (from -r requirements.txt (line 4)) (3.3.1)\n",
      "Requirement already satisfied: Keras==2.2.4 in /home/serafim/.local/lib/python3.8/site-packages (from -r requirements.txt (line 5)) (2.2.4)\n",
      "Requirement already satisfied: sklearn==0.0 in /home/serafim/.local/lib/python3.8/site-packages (from -r requirements.txt (line 6)) (0.0)\n",
      "Requirement already satisfied: termcolor>=1.1.0 in /home/serafim/.local/lib/python3.8/site-packages (from tensorflow==2.3.0->-r requirements.txt (line 1)) (1.1.0)\n",
      "Requirement already satisfied: wrapt>=1.11.1 in /home/serafim/.local/lib/python3.8/site-packages (from tensorflow==2.3.0->-r requirements.txt (line 1)) (1.12.1)\n",
      "Requirement already satisfied: google-pasta>=0.1.8 in /home/serafim/.local/lib/python3.8/site-packages (from tensorflow==2.3.0->-r requirements.txt (line 1)) (0.2.0)\n",
      "Requirement already satisfied: gast==0.3.3 in /home/serafim/.local/lib/python3.8/site-packages (from tensorflow==2.3.0->-r requirements.txt (line 1)) (0.3.3)\n",
      "Requirement already satisfied: absl-py>=0.7.0 in /home/serafim/.local/lib/python3.8/site-packages (from tensorflow==2.3.0->-r requirements.txt (line 1)) (0.10.0)\n",
      "Requirement already satisfied: scipy==1.4.1 in /home/serafim/.local/lib/python3.8/site-packages (from tensorflow==2.3.0->-r requirements.txt (line 1)) (1.4.1)\n",
      "Requirement already satisfied: protobuf>=3.9.2 in /home/serafim/.local/lib/python3.8/site-packages (from tensorflow==2.3.0->-r requirements.txt (line 1)) (3.13.0)\n",
      "Requirement already satisfied: tensorflow-estimator<2.4.0,>=2.3.0 in /home/serafim/.local/lib/python3.8/site-packages (from tensorflow==2.3.0->-r requirements.txt (line 1)) (2.3.0)\n",
      "Requirement already satisfied: astunparse==1.6.3 in /home/serafim/.local/lib/python3.8/site-packages (from tensorflow==2.3.0->-r requirements.txt (line 1)) (1.6.3)\n",
      "Requirement already satisfied: h5py<2.11.0,>=2.10.0 in /home/serafim/.local/lib/python3.8/site-packages (from tensorflow==2.3.0->-r requirements.txt (line 1)) (2.10.0)\n",
      "Requirement already satisfied: tensorboard<3,>=2.3.0 in /home/serafim/.local/lib/python3.8/site-packages (from tensorflow==2.3.0->-r requirements.txt (line 1)) (2.3.0)\n",
      "Requirement already satisfied: wheel>=0.26 in /usr/lib/python3/dist-packages (from tensorflow==2.3.0->-r requirements.txt (line 1)) (0.34.2)\n",
      "Requirement already satisfied: keras-preprocessing<1.2,>=1.1.1 in /home/serafim/.local/lib/python3.8/site-packages (from tensorflow==2.3.0->-r requirements.txt (line 1)) (1.1.2)\n",
      "Requirement already satisfied: grpcio>=1.8.6 in /home/serafim/.local/lib/python3.8/site-packages (from tensorflow==2.3.0->-r requirements.txt (line 1)) (1.31.0)\n",
      "Requirement already satisfied: six>=1.12.0 in /usr/lib/python3/dist-packages (from tensorflow==2.3.0->-r requirements.txt (line 1)) (1.14.0)\n",
      "Requirement already satisfied: opt-einsum>=2.3.2 in /home/serafim/.local/lib/python3.8/site-packages (from tensorflow==2.3.0->-r requirements.txt (line 1)) (3.3.0)\n",
      "Requirement already satisfied: pytz>=2011k in /usr/lib/python3/dist-packages (from pandas==0.24.2->-r requirements.txt (line 3)) (2019.3)\n",
      "Requirement already satisfied: python-dateutil>=2.5.0 in /usr/lib/python3/dist-packages (from pandas==0.24.2->-r requirements.txt (line 3)) (2.7.3)\n",
      "Requirement already satisfied: certifi>=2020.06.20 in /home/serafim/.local/lib/python3.8/site-packages (from matplotlib==3.3.1->-r requirements.txt (line 4)) (2020.6.20)\n",
      "Requirement already satisfied: cycler>=0.10 in /home/serafim/.local/lib/python3.8/site-packages (from matplotlib==3.3.1->-r requirements.txt (line 4)) (0.10.0)\n",
      "Requirement already satisfied: pyparsing!=2.0.4,!=2.1.2,!=2.1.6,>=2.0.3 in /home/serafim/.local/lib/python3.8/site-packages (from matplotlib==3.3.1->-r requirements.txt (line 4)) (2.4.7)\n",
      "Requirement already satisfied: kiwisolver>=1.0.1 in /home/serafim/.local/lib/python3.8/site-packages (from matplotlib==3.3.1->-r requirements.txt (line 4)) (1.2.0)\n",
      "Requirement already satisfied: pillow>=6.2.0 in /usr/lib/python3/dist-packages (from matplotlib==3.3.1->-r requirements.txt (line 4)) (7.0.0)\n",
      "Requirement already satisfied: pyyaml in /usr/lib/python3/dist-packages (from Keras==2.2.4->-r requirements.txt (line 5)) (5.3.1)\n",
      "Requirement already satisfied: keras-applications>=1.0.6 in /home/serafim/.local/lib/python3.8/site-packages (from Keras==2.2.4->-r requirements.txt (line 5)) (1.0.8)\n",
      "Requirement already satisfied: scikit-learn in /home/serafim/.local/lib/python3.8/site-packages (from sklearn==0.0->-r requirements.txt (line 6)) (0.23.2)\n",
      "Requirement already satisfied: setuptools in /usr/lib/python3/dist-packages (from protobuf>=3.9.2->tensorflow==2.3.0->-r requirements.txt (line 1)) (45.2.0)\n",
      "Requirement already satisfied: markdown>=2.6.8 in /home/serafim/.local/lib/python3.8/site-packages (from tensorboard<3,>=2.3.0->tensorflow==2.3.0->-r requirements.txt (line 1)) (3.2.2)\n",
      "Requirement already satisfied: werkzeug>=0.11.15 in /home/serafim/.local/lib/python3.8/site-packages (from tensorboard<3,>=2.3.0->tensorflow==2.3.0->-r requirements.txt (line 1)) (1.0.1)\n",
      "Requirement already satisfied: google-auth<2,>=1.6.3 in /home/serafim/.local/lib/python3.8/site-packages (from tensorboard<3,>=2.3.0->tensorflow==2.3.0->-r requirements.txt (line 1)) (1.21.0)\n",
      "Requirement already satisfied: tensorboard-plugin-wit>=1.6.0 in /home/serafim/.local/lib/python3.8/site-packages (from tensorboard<3,>=2.3.0->tensorflow==2.3.0->-r requirements.txt (line 1)) (1.7.0)\n",
      "Requirement already satisfied: requests<3,>=2.21.0 in /usr/lib/python3/dist-packages (from tensorboard<3,>=2.3.0->tensorflow==2.3.0->-r requirements.txt (line 1)) (2.22.0)\n",
      "Requirement already satisfied: google-auth-oauthlib<0.5,>=0.4.1 in /home/serafim/.local/lib/python3.8/site-packages (from tensorboard<3,>=2.3.0->tensorflow==2.3.0->-r requirements.txt (line 1)) (0.4.1)\n",
      "Requirement already satisfied: threadpoolctl>=2.0.0 in /home/serafim/.local/lib/python3.8/site-packages (from scikit-learn->sklearn==0.0->-r requirements.txt (line 6)) (2.1.0)\n",
      "Requirement already satisfied: joblib>=0.11 in /home/serafim/.local/lib/python3.8/site-packages (from scikit-learn->sklearn==0.0->-r requirements.txt (line 6)) (0.16.0)\n",
      "Requirement already satisfied: cachetools<5.0,>=2.0.0 in /home/serafim/.local/lib/python3.8/site-packages (from google-auth<2,>=1.6.3->tensorboard<3,>=2.3.0->tensorflow==2.3.0->-r requirements.txt (line 1)) (4.1.1)\n",
      "Requirement already satisfied: pyasn1-modules>=0.2.1 in /home/serafim/.local/lib/python3.8/site-packages (from google-auth<2,>=1.6.3->tensorboard<3,>=2.3.0->tensorflow==2.3.0->-r requirements.txt (line 1)) (0.2.8)\n",
      "Requirement already satisfied: rsa<5,>=3.1.4; python_version >= \"3.5\" in /home/serafim/.local/lib/python3.8/site-packages (from google-auth<2,>=1.6.3->tensorboard<3,>=2.3.0->tensorflow==2.3.0->-r requirements.txt (line 1)) (4.6)\n",
      "Requirement already satisfied: requests-oauthlib>=0.7.0 in /home/serafim/.local/lib/python3.8/site-packages (from google-auth-oauthlib<0.5,>=0.4.1->tensorboard<3,>=2.3.0->tensorflow==2.3.0->-r requirements.txt (line 1)) (1.3.0)\n",
      "Requirement already satisfied: pyasn1<0.5.0,>=0.4.6 in /home/serafim/.local/lib/python3.8/site-packages (from pyasn1-modules>=0.2.1->google-auth<2,>=1.6.3->tensorboard<3,>=2.3.0->tensorflow==2.3.0->-r requirements.txt (line 1)) (0.4.8)\n",
      "Requirement already satisfied: oauthlib>=3.0.0 in /usr/lib/python3/dist-packages (from requests-oauthlib>=0.7.0->google-auth-oauthlib<0.5,>=0.4.1->tensorboard<3,>=2.3.0->tensorflow==2.3.0->-r requirements.txt (line 1)) (3.1.0)\n",
      "Note: you may need to restart the kernel to use updated packages.\n"
     ]
    }
   ],
   "source": [
    "pip install -r requirements.txt"
   ]
  },
  {
   "cell_type": "code",
   "execution_count": 2,
   "metadata": {},
   "outputs": [],
   "source": [
    "#Importando bibliotecas\n",
    "import tensorflow\n",
    "from tensorflow.keras.preprocessing.image import ImageDataGenerator\n",
    "from tensorflow.keras.models import Sequential\n",
    "from tensorflow.keras.layers import Conv2D\n",
    "from tensorflow.keras.layers import MaxPooling2D\n",
    "from tensorflow.keras.layers import Flatten\n",
    "from tensorflow.keras.layers import Dense\n",
    "from tensorflow.keras.preprocessing.image import load_img\n",
    "import numpy"
   ]
  },
  {
   "cell_type": "markdown",
   "metadata": {},
   "source": [
    "## Parte 1 - Pré-Processamento de Dados"
   ]
  },
  {
   "cell_type": "code",
   "execution_count": 9,
   "metadata": {},
   "outputs": [
    {
     "name": "stdout",
     "output_type": "stream",
     "text": [
      "Found 4001 images belonging to 2 classes.\n",
      "Found 35998 images belonging to 2 classes.\n"
     ]
    }
   ],
   "source": [
    "#Test Set\n",
    "test_datagen = ImageDataGenerator(rescale = 1./255)\n",
    "test_set = test_datagen.flow_from_directory('dataset/test_set',\n",
    "                                           target_size = (64, 64),\n",
    "                                           batch_size = 32,\n",
    "                                           class_mode = 'binary')\n",
    "#Train Set\n",
    "train_datagen = ImageDataGenerator(rescale = 1./255, \n",
    "                                   shear_range = 0.2, \n",
    "                                   zoom_range = 0.2,\n",
    "                                   horizontal_flip = True)\n",
    "\n",
    "training_set = train_datagen.flow_from_directory('dataset/training_set',\n",
    "                                                 target_size = (64, 64),\n",
    "                                                 batch_size = 32,\n",
    "                                                 class_mode = 'binary')"
   ]
  },
  {
   "cell_type": "markdown",
   "metadata": {},
   "source": [
    "## Parte 2 - Gerando CNN"
   ]
  },
  {
   "cell_type": "code",
   "execution_count": 7,
   "metadata": {},
   "outputs": [],
   "source": [
    "# Inicializando \n",
    "cnn_classifier = Sequential()\n",
    "\n",
    "# Camada 1\n",
    "cnn_classifier.add(Conv2D(32, (3, 3), input_shape=(64, 64, 3), activation='relu'))\n",
    "\n",
    "# Agrupamento 1\n",
    "cnn_classifier.add(MaxPooling2D(pool_size=(2, 2)))\n",
    "\n",
    "# Camada 2\n",
    "cnn_classifier.add(Conv2D(32, (3, 3), activation='relu'))\n",
    "\n",
    "# Agrupamento 2\n",
    "cnn_classifier.add(MaxPooling2D(pool_size=(2, 2)))\n",
    "\n",
    "# Flattening\n",
    "cnn_classifier.add(Flatten())\n",
    "\n",
    "# Fazendo a junção das camadas\n",
    "cnn_classifier.add(Dense(units=128, activation='relu'))\n",
    "\n",
    "# Camada de saída\n",
    "cnn_classifier.add(Dense(units=1, activation='sigmoid'))\n",
    "\n",
    "# Compilando CNN\n",
    "cnn_classifier.compile(\n",
    "    optimizer='adam', loss='binary_crossentropy', metrics=['accuracy'])"
   ]
  },
  {
   "cell_type": "markdown",
   "metadata": {},
   "source": [
    "## Parte 3 - Treinando CNN "
   ]
  },
  {
   "cell_type": "code",
   "execution_count": 8,
   "metadata": {},
   "outputs": [
    {
     "name": "stdout",
     "output_type": "stream",
     "text": [
      "Epoch 1/25\n",
      "1125/1125 [==============================] - 371s 330ms/step - loss: 0.0190 - accuracy: 0.9938 - val_loss: 0.0053 - val_accuracy: 0.9980\n",
      "Epoch 2/25\n",
      "1125/1125 [==============================] - 363s 323ms/step - loss: 0.0042 - accuracy: 0.9989 - val_loss: 0.0032 - val_accuracy: 0.9993\n",
      "Epoch 3/25\n",
      "1125/1125 [==============================] - 362s 322ms/step - loss: 0.0048 - accuracy: 0.9985 - val_loss: 0.0047 - val_accuracy: 0.9978\n",
      "Epoch 4/25\n",
      "1125/1125 [==============================] - 271s 241ms/step - loss: 0.0023 - accuracy: 0.9992 - val_loss: 0.0013 - val_accuracy: 0.9995\n",
      "Epoch 5/25\n",
      "1125/1125 [==============================] - 197s 175ms/step - loss: 0.0022 - accuracy: 0.9994 - val_loss: 0.0023 - val_accuracy: 0.9993\n",
      "Epoch 6/25\n",
      "1125/1125 [==============================] - 197s 175ms/step - loss: 0.0038 - accuracy: 0.9990 - val_loss: 0.0036 - val_accuracy: 0.9995\n",
      "Epoch 7/25\n",
      "1125/1125 [==============================] - 199s 177ms/step - loss: 0.0016 - accuracy: 0.9993 - val_loss: 0.0018 - val_accuracy: 0.9995\n",
      "Epoch 8/25\n",
      "1125/1125 [==============================] - 198s 176ms/step - loss: 0.0026 - accuracy: 0.9994 - val_loss: 0.0024 - val_accuracy: 0.9993\n",
      "Epoch 9/25\n",
      "1125/1125 [==============================] - 198s 176ms/step - loss: 0.0014 - accuracy: 0.9996 - val_loss: 0.0015 - val_accuracy: 0.9998\n",
      "Epoch 10/25\n",
      "1125/1125 [==============================] - 198s 176ms/step - loss: 7.9348e-04 - accuracy: 0.9998 - val_loss: 0.0015 - val_accuracy: 0.9995\n",
      "Epoch 11/25\n",
      "1125/1125 [==============================] - 197s 175ms/step - loss: 0.0030 - accuracy: 0.9991 - val_loss: 0.0014 - val_accuracy: 0.9998\n",
      "Epoch 12/25\n",
      "1125/1125 [==============================] - 197s 175ms/step - loss: 9.9799e-04 - accuracy: 0.9997 - val_loss: 0.0030 - val_accuracy: 0.9990\n",
      "Epoch 13/25\n",
      "1125/1125 [==============================] - 197s 175ms/step - loss: 5.8864e-04 - accuracy: 0.9998 - val_loss: 0.0021 - val_accuracy: 0.9990\n",
      "Epoch 14/25\n",
      "1125/1125 [==============================] - 202s 180ms/step - loss: 0.0020 - accuracy: 0.9995 - val_loss: 0.0081 - val_accuracy: 0.9990\n",
      "Epoch 15/25\n",
      "1125/1125 [==============================] - 198s 176ms/step - loss: 0.0022 - accuracy: 0.9995 - val_loss: 0.0012 - val_accuracy: 0.9998\n",
      "Epoch 16/25\n",
      "1125/1125 [==============================] - 198s 176ms/step - loss: 2.4667e-04 - accuracy: 1.0000 - val_loss: 0.0059 - val_accuracy: 0.9993\n",
      "Epoch 17/25\n",
      "1125/1125 [==============================] - 198s 176ms/step - loss: 0.0021 - accuracy: 0.9996 - val_loss: 0.0011 - val_accuracy: 0.9998\n",
      "Epoch 18/25\n",
      "1125/1125 [==============================] - 199s 177ms/step - loss: 6.4005e-04 - accuracy: 0.9998 - val_loss: 0.0020 - val_accuracy: 0.9998\n",
      "Epoch 19/25\n",
      "1125/1125 [==============================] - 200s 178ms/step - loss: 6.8625e-04 - accuracy: 0.9998 - val_loss: 0.0012 - val_accuracy: 0.9998\n",
      "Epoch 20/25\n",
      "1125/1125 [==============================] - 199s 177ms/step - loss: 0.0014 - accuracy: 0.9996 - val_loss: 0.0025 - val_accuracy: 0.9998\n",
      "Epoch 21/25\n",
      "1125/1125 [==============================] - 197s 175ms/step - loss: 8.4061e-04 - accuracy: 0.9997 - val_loss: 0.0050 - val_accuracy: 0.9990\n",
      "Epoch 22/25\n",
      "1125/1125 [==============================] - 198s 176ms/step - loss: 0.0010 - accuracy: 0.9998 - val_loss: 0.0020 - val_accuracy: 0.9998\n",
      "Epoch 23/25\n",
      "1125/1125 [==============================] - 198s 176ms/step - loss: 9.4299e-04 - accuracy: 0.9997 - val_loss: 0.0015 - val_accuracy: 0.9995\n",
      "Epoch 24/25\n",
      "1125/1125 [==============================] - 197s 176ms/step - loss: 0.0010 - accuracy: 0.9997 - val_loss: 0.0011 - val_accuracy: 0.9995\n",
      "Epoch 25/25\n",
      "1125/1125 [==============================] - 199s 177ms/step - loss: 4.8441e-04 - accuracy: 0.9998 - val_loss: 0.0032 - val_accuracy: 0.9998\n"
     ]
    },
    {
     "data": {
      "text/plain": [
       "<tensorflow.python.keras.callbacks.History at 0x7fc6f252f7f0>"
      ]
     },
     "execution_count": 8,
     "metadata": {},
     "output_type": "execute_result"
    }
   ],
   "source": [
    "# Gerando Épocas\n",
    "cnn_classifier.fit(x = training_set, validation_data = test_set, epochs = 25)\n"
   ]
  },
  {
   "cell_type": "code",
   "execution_count": 6,
   "metadata": {},
   "outputs": [],
   "source": [
    "#relu-relu-sigmoid 15/25 loss: 0.0521 - accuracy: 0.9806 - val_loss: 1.0314 - val_accuracy: 0.8293\n",
    "#sigmoid-relu-tanh 11/25 loss: 0.2463 - accuracy: 0.9042 - val_loss: 0.8313 - val_accuracy: 0.3191\n",
    "#tanh-relu-relu    11/25 loss: 0.2381 - accuracy: 0.9042 - val_loss: 1.5384 - val_accuracy: 0.2979"
   ]
  },
  {
   "cell_type": "markdown",
   "metadata": {},
   "source": [
    "## Parte 4 - Realizando testes"
   ]
  },
  {
   "cell_type": "code",
   "execution_count": 15,
   "metadata": {},
   "outputs": [
    {
     "name": "stdout",
     "output_type": "stream",
     "text": [
      "A foto de um(a): anime\n"
     ]
    }
   ],
   "source": [
    "from tensorflow.keras.preprocessing import image\n",
    "test_image = image.load_img('dataset/single_prediction/3.png', target_size = (64, 64))\n",
    "test_image = image.img_to_array(test_image)\n",
    "test_image = numpy.expand_dims(test_image, axis=0)\n",
    "result = cnn_classifier.predict(test_image)\n",
    "training_set.class_indices\n",
    "if result [0][0] == 0 : \n",
    "    prediction = 'anime'\n",
    "else :\n",
    "    prediction = 'pessoa'\n",
    "print('A foto de um(a): ' + prediction)"
   ]
  },
  {
   "cell_type": "code",
   "execution_count": 16,
   "metadata": {},
   "outputs": [
    {
     "name": "stdout",
     "output_type": "stream",
     "text": [
      "anime\n"
     ]
    }
   ],
   "source": [
    "print(prediction)\n"
   ]
  },
  {
   "cell_type": "code",
   "execution_count": null,
   "metadata": {},
   "outputs": [],
   "source": []
  }
 ],
 "metadata": {
  "kernelspec": {
   "display_name": "Python 3",
   "language": "python",
   "name": "python3"
  },
  "language_info": {
   "codemirror_mode": {
    "name": "ipython",
    "version": 3
   },
   "file_extension": ".py",
   "mimetype": "text/x-python",
   "name": "python",
   "nbconvert_exporter": "python",
   "pygments_lexer": "ipython3",
   "version": "3.8.5"
  }
 },
 "nbformat": 4,
 "nbformat_minor": 4
}
