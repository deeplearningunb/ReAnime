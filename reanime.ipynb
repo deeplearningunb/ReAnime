{
 "cells": [
  {
   "cell_type": "markdown",
   "metadata": {},
   "source": [
    "##    Importando bibliotecas"
   ]
  },
  {
   "cell_type": "code",
   "execution_count": 1,
   "metadata": {},
   "outputs": [
    {
     "name": "stdout",
     "output_type": "stream",
     "text": [
      "Requirement already satisfied: tensorflow==2.3.0 in /home/serafim/.local/lib/python3.8/site-packages (from -r requirements.txt (line 1)) (2.3.0)\n",
      "Requirement already satisfied: numpy==1.16.2 in /home/serafim/.local/lib/python3.8/site-packages (from -r requirements.txt (line 2)) (1.16.2)\n",
      "Requirement already satisfied: pandas==0.24.2 in /home/serafim/.local/lib/python3.8/site-packages (from -r requirements.txt (line 3)) (0.24.2)\n",
      "Requirement already satisfied: matplotlib==3.3.1 in /home/serafim/.local/lib/python3.8/site-packages (from -r requirements.txt (line 4)) (3.3.1)\n",
      "Requirement already satisfied: Keras==2.2.4 in /home/serafim/.local/lib/python3.8/site-packages (from -r requirements.txt (line 5)) (2.2.4)\n",
      "Requirement already satisfied: sklearn==0.0 in /home/serafim/.local/lib/python3.8/site-packages (from -r requirements.txt (line 6)) (0.0)\n",
      "Requirement already satisfied: grpcio>=1.8.6 in /home/serafim/.local/lib/python3.8/site-packages (from tensorflow==2.3.0->-r requirements.txt (line 1)) (1.31.0)\n",
      "Requirement already satisfied: wheel>=0.26 in /usr/lib/python3/dist-packages (from tensorflow==2.3.0->-r requirements.txt (line 1)) (0.34.2)\n",
      "Requirement already satisfied: scipy==1.4.1 in /home/serafim/.local/lib/python3.8/site-packages (from tensorflow==2.3.0->-r requirements.txt (line 1)) (1.4.1)\n",
      "Requirement already satisfied: wrapt>=1.11.1 in /home/serafim/.local/lib/python3.8/site-packages (from tensorflow==2.3.0->-r requirements.txt (line 1)) (1.12.1)\n",
      "Requirement already satisfied: protobuf>=3.9.2 in /home/serafim/.local/lib/python3.8/site-packages (from tensorflow==2.3.0->-r requirements.txt (line 1)) (3.13.0)\n",
      "Requirement already satisfied: tensorflow-estimator<2.4.0,>=2.3.0 in /home/serafim/.local/lib/python3.8/site-packages (from tensorflow==2.3.0->-r requirements.txt (line 1)) (2.3.0)\n",
      "Requirement already satisfied: astunparse==1.6.3 in /home/serafim/.local/lib/python3.8/site-packages (from tensorflow==2.3.0->-r requirements.txt (line 1)) (1.6.3)\n",
      "Requirement already satisfied: six>=1.12.0 in /usr/lib/python3/dist-packages (from tensorflow==2.3.0->-r requirements.txt (line 1)) (1.14.0)\n",
      "Requirement already satisfied: h5py<2.11.0,>=2.10.0 in /home/serafim/.local/lib/python3.8/site-packages (from tensorflow==2.3.0->-r requirements.txt (line 1)) (2.10.0)\n",
      "Requirement already satisfied: google-pasta>=0.1.8 in /home/serafim/.local/lib/python3.8/site-packages (from tensorflow==2.3.0->-r requirements.txt (line 1)) (0.2.0)\n",
      "Requirement already satisfied: opt-einsum>=2.3.2 in /home/serafim/.local/lib/python3.8/site-packages (from tensorflow==2.3.0->-r requirements.txt (line 1)) (3.3.0)\n",
      "Requirement already satisfied: termcolor>=1.1.0 in /home/serafim/.local/lib/python3.8/site-packages (from tensorflow==2.3.0->-r requirements.txt (line 1)) (1.1.0)\n",
      "Requirement already satisfied: absl-py>=0.7.0 in /home/serafim/.local/lib/python3.8/site-packages (from tensorflow==2.3.0->-r requirements.txt (line 1)) (0.10.0)\n",
      "Requirement already satisfied: keras-preprocessing<1.2,>=1.1.1 in /home/serafim/.local/lib/python3.8/site-packages (from tensorflow==2.3.0->-r requirements.txt (line 1)) (1.1.2)\n",
      "Requirement already satisfied: gast==0.3.3 in /home/serafim/.local/lib/python3.8/site-packages (from tensorflow==2.3.0->-r requirements.txt (line 1)) (0.3.3)\n",
      "Requirement already satisfied: tensorboard<3,>=2.3.0 in /home/serafim/.local/lib/python3.8/site-packages (from tensorflow==2.3.0->-r requirements.txt (line 1)) (2.3.0)\n",
      "Requirement already satisfied: pytz>=2011k in /usr/lib/python3/dist-packages (from pandas==0.24.2->-r requirements.txt (line 3)) (2019.3)\n",
      "Requirement already satisfied: python-dateutil>=2.5.0 in /usr/lib/python3/dist-packages (from pandas==0.24.2->-r requirements.txt (line 3)) (2.7.3)\n",
      "Requirement already satisfied: pillow>=6.2.0 in /usr/lib/python3/dist-packages (from matplotlib==3.3.1->-r requirements.txt (line 4)) (7.0.0)\n",
      "Requirement already satisfied: kiwisolver>=1.0.1 in /home/serafim/.local/lib/python3.8/site-packages (from matplotlib==3.3.1->-r requirements.txt (line 4)) (1.2.0)\n",
      "Requirement already satisfied: pyparsing!=2.0.4,!=2.1.2,!=2.1.6,>=2.0.3 in /home/serafim/.local/lib/python3.8/site-packages (from matplotlib==3.3.1->-r requirements.txt (line 4)) (2.4.7)\n",
      "Requirement already satisfied: cycler>=0.10 in /home/serafim/.local/lib/python3.8/site-packages (from matplotlib==3.3.1->-r requirements.txt (line 4)) (0.10.0)\n",
      "Requirement already satisfied: certifi>=2020.06.20 in /home/serafim/.local/lib/python3.8/site-packages (from matplotlib==3.3.1->-r requirements.txt (line 4)) (2020.6.20)\n",
      "Requirement already satisfied: pyyaml in /usr/lib/python3/dist-packages (from Keras==2.2.4->-r requirements.txt (line 5)) (5.3.1)\n",
      "Requirement already satisfied: keras-applications>=1.0.6 in /home/serafim/.local/lib/python3.8/site-packages (from Keras==2.2.4->-r requirements.txt (line 5)) (1.0.8)\n",
      "Requirement already satisfied: scikit-learn in /home/serafim/.local/lib/python3.8/site-packages (from sklearn==0.0->-r requirements.txt (line 6)) (0.23.2)\n",
      "Requirement already satisfied: setuptools in /usr/lib/python3/dist-packages (from protobuf>=3.9.2->tensorflow==2.3.0->-r requirements.txt (line 1)) (45.2.0)\n",
      "Requirement already satisfied: google-auth<2,>=1.6.3 in /home/serafim/.local/lib/python3.8/site-packages (from tensorboard<3,>=2.3.0->tensorflow==2.3.0->-r requirements.txt (line 1)) (1.21.0)\n",
      "Requirement already satisfied: requests<3,>=2.21.0 in /usr/lib/python3/dist-packages (from tensorboard<3,>=2.3.0->tensorflow==2.3.0->-r requirements.txt (line 1)) (2.22.0)\n",
      "Requirement already satisfied: tensorboard-plugin-wit>=1.6.0 in /home/serafim/.local/lib/python3.8/site-packages (from tensorboard<3,>=2.3.0->tensorflow==2.3.0->-r requirements.txt (line 1)) (1.7.0)\n",
      "Requirement already satisfied: markdown>=2.6.8 in /home/serafim/.local/lib/python3.8/site-packages (from tensorboard<3,>=2.3.0->tensorflow==2.3.0->-r requirements.txt (line 1)) (3.2.2)\n",
      "Requirement already satisfied: werkzeug>=0.11.15 in /home/serafim/.local/lib/python3.8/site-packages (from tensorboard<3,>=2.3.0->tensorflow==2.3.0->-r requirements.txt (line 1)) (1.0.1)\n",
      "Requirement already satisfied: google-auth-oauthlib<0.5,>=0.4.1 in /home/serafim/.local/lib/python3.8/site-packages (from tensorboard<3,>=2.3.0->tensorflow==2.3.0->-r requirements.txt (line 1)) (0.4.1)\n",
      "Requirement already satisfied: threadpoolctl>=2.0.0 in /home/serafim/.local/lib/python3.8/site-packages (from scikit-learn->sklearn==0.0->-r requirements.txt (line 6)) (2.1.0)\n",
      "Requirement already satisfied: joblib>=0.11 in /home/serafim/.local/lib/python3.8/site-packages (from scikit-learn->sklearn==0.0->-r requirements.txt (line 6)) (0.16.0)\n",
      "Requirement already satisfied: rsa<5,>=3.1.4; python_version >= \"3.5\" in /home/serafim/.local/lib/python3.8/site-packages (from google-auth<2,>=1.6.3->tensorboard<3,>=2.3.0->tensorflow==2.3.0->-r requirements.txt (line 1)) (4.6)\n",
      "Requirement already satisfied: cachetools<5.0,>=2.0.0 in /home/serafim/.local/lib/python3.8/site-packages (from google-auth<2,>=1.6.3->tensorboard<3,>=2.3.0->tensorflow==2.3.0->-r requirements.txt (line 1)) (4.1.1)\n",
      "Requirement already satisfied: pyasn1-modules>=0.2.1 in /home/serafim/.local/lib/python3.8/site-packages (from google-auth<2,>=1.6.3->tensorboard<3,>=2.3.0->tensorflow==2.3.0->-r requirements.txt (line 1)) (0.2.8)\n",
      "Requirement already satisfied: requests-oauthlib>=0.7.0 in /home/serafim/.local/lib/python3.8/site-packages (from google-auth-oauthlib<0.5,>=0.4.1->tensorboard<3,>=2.3.0->tensorflow==2.3.0->-r requirements.txt (line 1)) (1.3.0)\n",
      "Requirement already satisfied: pyasn1>=0.1.3 in /home/serafim/.local/lib/python3.8/site-packages (from rsa<5,>=3.1.4; python_version >= \"3.5\"->google-auth<2,>=1.6.3->tensorboard<3,>=2.3.0->tensorflow==2.3.0->-r requirements.txt (line 1)) (0.4.8)\n",
      "Requirement already satisfied: oauthlib>=3.0.0 in /usr/lib/python3/dist-packages (from requests-oauthlib>=0.7.0->google-auth-oauthlib<0.5,>=0.4.1->tensorboard<3,>=2.3.0->tensorflow==2.3.0->-r requirements.txt (line 1)) (3.1.0)\n",
      "Note: you may need to restart the kernel to use updated packages.\n"
     ]
    }
   ],
   "source": [
    "pip install -r requirements.txt"
   ]
  },
  {
   "cell_type": "code",
   "execution_count": 1,
   "metadata": {},
   "outputs": [],
   "source": [
    "#Importando bibliotecas\n",
    "import tensorflow\n",
    "from tensorflow.keras.preprocessing.image import ImageDataGenerator\n",
    "from tensorflow.keras.models import Sequential\n",
    "from tensorflow.keras.layers import Conv2D\n",
    "from tensorflow.keras.layers import MaxPooling2D\n",
    "from tensorflow.keras.layers import Flatten\n",
    "from tensorflow.keras.layers import Dense\n",
    "from tensorflow.keras.preprocessing.image import load_img\n",
    "import numpy"
   ]
  },
  {
   "cell_type": "markdown",
   "metadata": {},
   "source": [
    "## Parte 1 - Pré-Processamento de Dados"
   ]
  },
  {
   "cell_type": "code",
   "execution_count": 2,
   "metadata": {},
   "outputs": [
    {
     "name": "stdout",
     "output_type": "stream",
     "text": [
      "Found 2000 images belonging to 2 classes.\n",
      "Found 17998 images belonging to 2 classes.\n"
     ]
    }
   ],
   "source": [
    "#Test Set\n",
    "test_datagen = ImageDataGenerator(rescale = 1./255)\n",
    "test_set = test_datagen.flow_from_directory('dataset/test_set',\n",
    "                                           target_size = (64, 64),\n",
    "                                           batch_size = 32,\n",
    "                                           class_mode = 'binary')\n",
    "#Train Set\n",
    "train_datagen = ImageDataGenerator(rescale = 1./255, \n",
    "                                   shear_range = 0.2, \n",
    "                                   zoom_range = 0.2,\n",
    "                                   horizontal_flip = True)\n",
    "\n",
    "training_set = train_datagen.flow_from_directory('dataset/training_set',\n",
    "                                                 target_size = (64, 64),\n",
    "                                                 batch_size = 32,\n",
    "                                                 class_mode = 'binary')"
   ]
  },
  {
   "cell_type": "markdown",
   "metadata": {},
   "source": [
    "## Parte 2 - Gerando CNN"
   ]
  },
  {
   "cell_type": "code",
   "execution_count": 3,
   "metadata": {},
   "outputs": [],
   "source": [
    "# Inicializando \n",
    "cnn_classifier = Sequential()\n",
    "\n",
    "# Camada 1\n",
    "cnn_classifier.add(Conv2D(32, (3, 3), input_shape=(64, 64, 3), activation='relu'))\n",
    "\n",
    "# Agrupamento 1\n",
    "cnn_classifier.add(MaxPooling2D(pool_size=(2, 2)))\n",
    "\n",
    "# Camada 2\n",
    "cnn_classifier.add(Conv2D(32, (3, 3), activation='relu'))\n",
    "\n",
    "# Agrupamento 2\n",
    "cnn_classifier.add(MaxPooling2D(pool_size=(2, 2)))\n",
    "\n",
    "# Flattening\n",
    "cnn_classifier.add(Flatten())\n",
    "\n",
    "# Fazendo a junção das camadas\n",
    "cnn_classifier.add(Dense(units=128, activation='relu'))\n",
    "\n",
    "# Camada de saída\n",
    "cnn_classifier.add(Dense(units=1, activation='sigmoid'))\n",
    "\n",
    "# Compilando CNN\n",
    "cnn_classifier.compile(\n",
    "    optimizer='adam', loss='binary_crossentropy', metrics=['accuracy'])"
   ]
  },
  {
   "cell_type": "markdown",
   "metadata": {},
   "source": [
    "## Parte 3 - Treinando CNN "
   ]
  },
  {
   "cell_type": "code",
   "execution_count": 4,
   "metadata": {},
   "outputs": [
    {
     "name": "stdout",
     "output_type": "stream",
     "text": [
      "Epoch 1/15\n",
      "563/563 [==============================] - 142s 253ms/step - loss: 0.0454 - accuracy: 0.9837 - val_loss: 0.0076 - val_accuracy: 0.9980\n",
      "Epoch 2/15\n",
      "563/563 [==============================] - 145s 257ms/step - loss: 0.0046 - accuracy: 0.9988 - val_loss: 0.0121 - val_accuracy: 0.9950\n",
      "Epoch 3/15\n",
      "563/563 [==============================] - 133s 236ms/step - loss: 0.0052 - accuracy: 0.9986 - val_loss: 0.0025 - val_accuracy: 0.9990\n",
      "Epoch 4/15\n",
      "563/563 [==============================] - 172s 305ms/step - loss: 0.0079 - accuracy: 0.9973 - val_loss: 0.0085 - val_accuracy: 0.9975\n",
      "Epoch 5/15\n",
      "563/563 [==============================] - 161s 286ms/step - loss: 0.0054 - accuracy: 0.9982 - val_loss: 0.0017 - val_accuracy: 0.9995\n",
      "Epoch 6/15\n",
      "563/563 [==============================] - 162s 288ms/step - loss: 0.0028 - accuracy: 0.9990 - val_loss: 0.0049 - val_accuracy: 0.9990\n",
      "Epoch 7/15\n",
      "563/563 [==============================] - 144s 256ms/step - loss: 0.0032 - accuracy: 0.9990 - val_loss: 0.0031 - val_accuracy: 0.9995\n",
      "Epoch 8/15\n",
      "563/563 [==============================] - 123s 219ms/step - loss: 0.0025 - accuracy: 0.9988 - val_loss: 0.0338 - val_accuracy: 0.9925\n",
      "Epoch 9/15\n",
      "563/563 [==============================] - 138s 245ms/step - loss: 0.0028 - accuracy: 0.9991 - val_loss: 0.0093 - val_accuracy: 0.9990\n",
      "Epoch 10/15\n",
      "563/563 [==============================] - 156s 277ms/step - loss: 0.0011 - accuracy: 0.9996 - val_loss: 0.0077 - val_accuracy: 0.9970\n",
      "Epoch 11/15\n",
      "563/563 [==============================] - 184s 327ms/step - loss: 0.0011 - accuracy: 0.9994 - val_loss: 0.0060 - val_accuracy: 0.9990\n",
      "Epoch 12/15\n",
      "563/563 [==============================] - 171s 305ms/step - loss: 0.0016 - accuracy: 0.9996 - val_loss: 0.0050 - val_accuracy: 0.9990\n",
      "Epoch 13/15\n",
      "563/563 [==============================] - 171s 304ms/step - loss: 0.0042 - accuracy: 0.9989 - val_loss: 0.0016 - val_accuracy: 0.9995\n",
      "Epoch 14/15\n",
      "563/563 [==============================] - 174s 309ms/step - loss: 0.0011 - accuracy: 0.9996 - val_loss: 0.0035 - val_accuracy: 0.9995\n",
      "Epoch 15/15\n",
      "563/563 [==============================] - 171s 304ms/step - loss: 0.0013 - accuracy: 0.9997 - val_loss: 0.0059 - val_accuracy: 0.9995\n"
     ]
    },
    {
     "data": {
      "text/plain": [
       "<tensorflow.python.keras.callbacks.History at 0x7fab4b127040>"
      ]
     },
     "execution_count": 4,
     "metadata": {},
     "output_type": "execute_result"
    }
   ],
   "source": [
    "# Gerando Épocas\n",
    "cnn_classifier.fit(x = training_set, validation_data = test_set, epochs = 15)\n"
   ]
  },
  {
   "cell_type": "markdown",
   "metadata": {},
   "source": [
    "## Parte 4 - Realizando testes"
   ]
  },
  {
   "cell_type": "code",
   "execution_count": 11,
   "metadata": {},
   "outputs": [
    {
     "name": "stdout",
     "output_type": "stream",
     "text": [
      "A foto de um(a): pessoa\n"
     ]
    }
   ],
   "source": [
    "from tensorflow.keras.preprocessing import image\n",
    "test_image = image.load_img('dataset/single_prediction/5.jpg', target_size = (64, 64))\n",
    "test_image = image.img_to_array(test_image)\n",
    "test_image = numpy.expand_dims(test_image, axis=0)\n",
    "result = cnn_classifier.predict(test_image)\n",
    "training_set.class_indices\n",
    "if result [0][0] == 0 : \n",
    "    prediction = 'anime'\n",
    "else :\n",
    "    prediction = 'pessoa'\n",
    "print('A foto de um(a): ' + prediction)"
   ]
  },
  {
   "cell_type": "code",
   "execution_count": 12,
   "metadata": {},
   "outputs": [
    {
     "name": "stdout",
     "output_type": "stream",
     "text": [
      "pessoa\n"
     ]
    }
   ],
   "source": [
    "print(prediction)\n"
   ]
  }
 ],
 "metadata": {
  "kernelspec": {
   "display_name": "Python 3",
   "language": "python",
   "name": "python3"
  },
  "language_info": {
   "codemirror_mode": {
    "name": "ipython",
    "version": 3
   },
   "file_extension": ".py",
   "mimetype": "text/x-python",
   "name": "python",
   "nbconvert_exporter": "python",
   "pygments_lexer": "ipython3",
   "version": "3.8.5"
  }
 },
 "nbformat": 4,
 "nbformat_minor": 4
}
